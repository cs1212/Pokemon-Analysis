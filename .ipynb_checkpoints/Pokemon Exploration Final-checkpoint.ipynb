{
 "cells": [
  {
   "cell_type": "code",
   "execution_count": 1,
   "metadata": {},
   "outputs": [],
   "source": [
    "import pandas as pd\n",
    "import numpy as np\n",
    "import matplotlib.pyplot as plt\n",
    "import scipy.stats as stats"
   ]
  },
  {
   "cell_type": "code",
   "execution_count": 2,
   "metadata": {},
   "outputs": [],
   "source": [
    "def bar(x_vals,y_vals1,y_vals2,title_name,x_lbl,y_lbl,lab1,lab2):\n",
    "    '''\n",
    "    plot two bar graphs side by side\n",
    "    Args:\n",
    "        x_vals: values of the x-axis\n",
    "        y_vals1: first set of values to plot\n",
    "        y_vals2: second set of values to plot\n",
    "        title_name: name of plot title\n",
    "        x_lbl: x axis label\n",
    "        y_lbl: y axis label\n",
    "        lab1: label for y_vals1\n",
    "        lab2: label for y_vals2\n",
    "    Returns:\n",
    "        bar graph\n",
    "    '''\n",
    "    fig,ax = plt.subplots(figsize=(7,6))\n",
    "    ax.bar(x_vals,y_vals1,width=0.4,align='edge')\n",
    "    ax.bar(x_vals,y_vals2,width=-0.4,align='edge')\n",
    "    ax.set_title(title_name)\n",
    "    #ax.set_xticklabels(x_vals,rotation=0)\n",
    "    ax.set_ylabel(y_lbl)\n",
    "    ax.set_xlabel(x_lbl)\n",
    "    ax.legend((lab1,lab2),loc='best')\n",
    "    fig"
   ]
  },
  {
   "cell_type": "code",
   "execution_count": 3,
   "metadata": {},
   "outputs": [
    {
     "data": {
      "text/html": [
       "<div>\n",
       "<style scoped>\n",
       "    .dataframe tbody tr th:only-of-type {\n",
       "        vertical-align: middle;\n",
       "    }\n",
       "\n",
       "    .dataframe tbody tr th {\n",
       "        vertical-align: top;\n",
       "    }\n",
       "\n",
       "    .dataframe thead th {\n",
       "        text-align: right;\n",
       "    }\n",
       "</style>\n",
       "<table border=\"1\" class=\"dataframe\">\n",
       "  <thead>\n",
       "    <tr style=\"text-align: right;\">\n",
       "      <th></th>\n",
       "      <th>abilities</th>\n",
       "      <th>against_bug</th>\n",
       "      <th>against_dark</th>\n",
       "      <th>against_dragon</th>\n",
       "      <th>against_electric</th>\n",
       "      <th>against_fairy</th>\n",
       "      <th>against_fight</th>\n",
       "      <th>against_fire</th>\n",
       "      <th>against_flying</th>\n",
       "      <th>against_ghost</th>\n",
       "      <th>...</th>\n",
       "      <th>percentage_male</th>\n",
       "      <th>pokedex_number</th>\n",
       "      <th>sp_attack</th>\n",
       "      <th>sp_defense</th>\n",
       "      <th>speed</th>\n",
       "      <th>type1</th>\n",
       "      <th>type2</th>\n",
       "      <th>weight_kg</th>\n",
       "      <th>generation</th>\n",
       "      <th>is_legendary</th>\n",
       "    </tr>\n",
       "  </thead>\n",
       "  <tbody>\n",
       "    <tr>\n",
       "      <th>0</th>\n",
       "      <td>['Overgrow', 'Chlorophyll']</td>\n",
       "      <td>1.0</td>\n",
       "      <td>1.0</td>\n",
       "      <td>1.0</td>\n",
       "      <td>0.5</td>\n",
       "      <td>0.5</td>\n",
       "      <td>0.5</td>\n",
       "      <td>2.0</td>\n",
       "      <td>2.0</td>\n",
       "      <td>1.0</td>\n",
       "      <td>...</td>\n",
       "      <td>88.1</td>\n",
       "      <td>1</td>\n",
       "      <td>65</td>\n",
       "      <td>65</td>\n",
       "      <td>45</td>\n",
       "      <td>grass</td>\n",
       "      <td>poison</td>\n",
       "      <td>6.9</td>\n",
       "      <td>1</td>\n",
       "      <td>0</td>\n",
       "    </tr>\n",
       "    <tr>\n",
       "      <th>1</th>\n",
       "      <td>['Overgrow', 'Chlorophyll']</td>\n",
       "      <td>1.0</td>\n",
       "      <td>1.0</td>\n",
       "      <td>1.0</td>\n",
       "      <td>0.5</td>\n",
       "      <td>0.5</td>\n",
       "      <td>0.5</td>\n",
       "      <td>2.0</td>\n",
       "      <td>2.0</td>\n",
       "      <td>1.0</td>\n",
       "      <td>...</td>\n",
       "      <td>88.1</td>\n",
       "      <td>2</td>\n",
       "      <td>80</td>\n",
       "      <td>80</td>\n",
       "      <td>60</td>\n",
       "      <td>grass</td>\n",
       "      <td>poison</td>\n",
       "      <td>13.0</td>\n",
       "      <td>1</td>\n",
       "      <td>0</td>\n",
       "    </tr>\n",
       "    <tr>\n",
       "      <th>2</th>\n",
       "      <td>['Overgrow', 'Chlorophyll']</td>\n",
       "      <td>1.0</td>\n",
       "      <td>1.0</td>\n",
       "      <td>1.0</td>\n",
       "      <td>0.5</td>\n",
       "      <td>0.5</td>\n",
       "      <td>0.5</td>\n",
       "      <td>2.0</td>\n",
       "      <td>2.0</td>\n",
       "      <td>1.0</td>\n",
       "      <td>...</td>\n",
       "      <td>88.1</td>\n",
       "      <td>3</td>\n",
       "      <td>122</td>\n",
       "      <td>120</td>\n",
       "      <td>80</td>\n",
       "      <td>grass</td>\n",
       "      <td>poison</td>\n",
       "      <td>100.0</td>\n",
       "      <td>1</td>\n",
       "      <td>0</td>\n",
       "    </tr>\n",
       "    <tr>\n",
       "      <th>3</th>\n",
       "      <td>['Blaze', 'Solar Power']</td>\n",
       "      <td>0.5</td>\n",
       "      <td>1.0</td>\n",
       "      <td>1.0</td>\n",
       "      <td>1.0</td>\n",
       "      <td>0.5</td>\n",
       "      <td>1.0</td>\n",
       "      <td>0.5</td>\n",
       "      <td>1.0</td>\n",
       "      <td>1.0</td>\n",
       "      <td>...</td>\n",
       "      <td>88.1</td>\n",
       "      <td>4</td>\n",
       "      <td>60</td>\n",
       "      <td>50</td>\n",
       "      <td>65</td>\n",
       "      <td>fire</td>\n",
       "      <td>NaN</td>\n",
       "      <td>8.5</td>\n",
       "      <td>1</td>\n",
       "      <td>0</td>\n",
       "    </tr>\n",
       "    <tr>\n",
       "      <th>4</th>\n",
       "      <td>['Blaze', 'Solar Power']</td>\n",
       "      <td>0.5</td>\n",
       "      <td>1.0</td>\n",
       "      <td>1.0</td>\n",
       "      <td>1.0</td>\n",
       "      <td>0.5</td>\n",
       "      <td>1.0</td>\n",
       "      <td>0.5</td>\n",
       "      <td>1.0</td>\n",
       "      <td>1.0</td>\n",
       "      <td>...</td>\n",
       "      <td>88.1</td>\n",
       "      <td>5</td>\n",
       "      <td>80</td>\n",
       "      <td>65</td>\n",
       "      <td>80</td>\n",
       "      <td>fire</td>\n",
       "      <td>NaN</td>\n",
       "      <td>19.0</td>\n",
       "      <td>1</td>\n",
       "      <td>0</td>\n",
       "    </tr>\n",
       "  </tbody>\n",
       "</table>\n",
       "<p>5 rows × 41 columns</p>\n",
       "</div>"
      ],
      "text/plain": [
       "                     abilities  against_bug  against_dark  against_dragon  \\\n",
       "0  ['Overgrow', 'Chlorophyll']          1.0           1.0             1.0   \n",
       "1  ['Overgrow', 'Chlorophyll']          1.0           1.0             1.0   \n",
       "2  ['Overgrow', 'Chlorophyll']          1.0           1.0             1.0   \n",
       "3     ['Blaze', 'Solar Power']          0.5           1.0             1.0   \n",
       "4     ['Blaze', 'Solar Power']          0.5           1.0             1.0   \n",
       "\n",
       "   against_electric  against_fairy  against_fight  against_fire  \\\n",
       "0               0.5            0.5            0.5           2.0   \n",
       "1               0.5            0.5            0.5           2.0   \n",
       "2               0.5            0.5            0.5           2.0   \n",
       "3               1.0            0.5            1.0           0.5   \n",
       "4               1.0            0.5            1.0           0.5   \n",
       "\n",
       "   against_flying  against_ghost  ...  percentage_male  pokedex_number  \\\n",
       "0             2.0            1.0  ...             88.1               1   \n",
       "1             2.0            1.0  ...             88.1               2   \n",
       "2             2.0            1.0  ...             88.1               3   \n",
       "3             1.0            1.0  ...             88.1               4   \n",
       "4             1.0            1.0  ...             88.1               5   \n",
       "\n",
       "   sp_attack  sp_defense  speed  type1   type2  weight_kg  generation  \\\n",
       "0         65          65     45  grass  poison        6.9           1   \n",
       "1         80          80     60  grass  poison       13.0           1   \n",
       "2        122         120     80  grass  poison      100.0           1   \n",
       "3         60          50     65   fire     NaN        8.5           1   \n",
       "4         80          65     80   fire     NaN       19.0           1   \n",
       "\n",
       "   is_legendary  \n",
       "0             0  \n",
       "1             0  \n",
       "2             0  \n",
       "3             0  \n",
       "4             0  \n",
       "\n",
       "[5 rows x 41 columns]"
      ]
     },
     "execution_count": 3,
     "metadata": {},
     "output_type": "execute_result"
    }
   ],
   "source": [
    "pokemon = pd.read_csv('pokemon.csv')\n",
    "pokemon.head()"
   ]
  },
  {
   "cell_type": "code",
   "execution_count": 4,
   "metadata": {},
   "outputs": [
    {
     "data": {
      "text/html": [
       "<div>\n",
       "<style scoped>\n",
       "    .dataframe tbody tr th:only-of-type {\n",
       "        vertical-align: middle;\n",
       "    }\n",
       "\n",
       "    .dataframe tbody tr th {\n",
       "        vertical-align: top;\n",
       "    }\n",
       "\n",
       "    .dataframe thead th {\n",
       "        text-align: right;\n",
       "    }\n",
       "</style>\n",
       "<table border=\"1\" class=\"dataframe\">\n",
       "  <thead>\n",
       "    <tr style=\"text-align: right;\">\n",
       "      <th></th>\n",
       "      <th>against_bug</th>\n",
       "      <th>against_dark</th>\n",
       "      <th>against_dragon</th>\n",
       "      <th>against_electric</th>\n",
       "      <th>against_fairy</th>\n",
       "      <th>against_fight</th>\n",
       "      <th>against_fire</th>\n",
       "      <th>against_flying</th>\n",
       "      <th>against_ghost</th>\n",
       "      <th>against_grass</th>\n",
       "      <th>...</th>\n",
       "      <th>height_m</th>\n",
       "      <th>hp</th>\n",
       "      <th>percentage_male</th>\n",
       "      <th>pokedex_number</th>\n",
       "      <th>sp_attack</th>\n",
       "      <th>sp_defense</th>\n",
       "      <th>speed</th>\n",
       "      <th>weight_kg</th>\n",
       "      <th>generation</th>\n",
       "      <th>is_legendary</th>\n",
       "    </tr>\n",
       "  </thead>\n",
       "  <tbody>\n",
       "    <tr>\n",
       "      <th>count</th>\n",
       "      <td>801.000000</td>\n",
       "      <td>801.000000</td>\n",
       "      <td>801.000000</td>\n",
       "      <td>801.000000</td>\n",
       "      <td>801.000000</td>\n",
       "      <td>801.000000</td>\n",
       "      <td>801.000000</td>\n",
       "      <td>801.000000</td>\n",
       "      <td>801.000000</td>\n",
       "      <td>801.000000</td>\n",
       "      <td>...</td>\n",
       "      <td>781.000000</td>\n",
       "      <td>801.000000</td>\n",
       "      <td>703.000000</td>\n",
       "      <td>801.000000</td>\n",
       "      <td>801.000000</td>\n",
       "      <td>801.000000</td>\n",
       "      <td>801.000000</td>\n",
       "      <td>781.000000</td>\n",
       "      <td>801.000000</td>\n",
       "      <td>801.000000</td>\n",
       "    </tr>\n",
       "    <tr>\n",
       "      <th>mean</th>\n",
       "      <td>0.996255</td>\n",
       "      <td>1.057116</td>\n",
       "      <td>0.968789</td>\n",
       "      <td>1.073970</td>\n",
       "      <td>1.068976</td>\n",
       "      <td>1.065543</td>\n",
       "      <td>1.135456</td>\n",
       "      <td>1.192884</td>\n",
       "      <td>0.985019</td>\n",
       "      <td>1.034020</td>\n",
       "      <td>...</td>\n",
       "      <td>1.163892</td>\n",
       "      <td>68.958801</td>\n",
       "      <td>55.155761</td>\n",
       "      <td>401.000000</td>\n",
       "      <td>71.305868</td>\n",
       "      <td>70.911361</td>\n",
       "      <td>66.334582</td>\n",
       "      <td>61.378105</td>\n",
       "      <td>3.690387</td>\n",
       "      <td>0.087391</td>\n",
       "    </tr>\n",
       "    <tr>\n",
       "      <th>std</th>\n",
       "      <td>0.597248</td>\n",
       "      <td>0.438142</td>\n",
       "      <td>0.353058</td>\n",
       "      <td>0.654962</td>\n",
       "      <td>0.522167</td>\n",
       "      <td>0.717251</td>\n",
       "      <td>0.691853</td>\n",
       "      <td>0.604488</td>\n",
       "      <td>0.558256</td>\n",
       "      <td>0.788896</td>\n",
       "      <td>...</td>\n",
       "      <td>1.080326</td>\n",
       "      <td>26.576015</td>\n",
       "      <td>20.261623</td>\n",
       "      <td>231.373075</td>\n",
       "      <td>32.353826</td>\n",
       "      <td>27.942501</td>\n",
       "      <td>28.907662</td>\n",
       "      <td>109.354766</td>\n",
       "      <td>1.930420</td>\n",
       "      <td>0.282583</td>\n",
       "    </tr>\n",
       "    <tr>\n",
       "      <th>min</th>\n",
       "      <td>0.250000</td>\n",
       "      <td>0.250000</td>\n",
       "      <td>0.000000</td>\n",
       "      <td>0.000000</td>\n",
       "      <td>0.250000</td>\n",
       "      <td>0.000000</td>\n",
       "      <td>0.250000</td>\n",
       "      <td>0.250000</td>\n",
       "      <td>0.000000</td>\n",
       "      <td>0.250000</td>\n",
       "      <td>...</td>\n",
       "      <td>0.100000</td>\n",
       "      <td>1.000000</td>\n",
       "      <td>0.000000</td>\n",
       "      <td>1.000000</td>\n",
       "      <td>10.000000</td>\n",
       "      <td>20.000000</td>\n",
       "      <td>5.000000</td>\n",
       "      <td>0.100000</td>\n",
       "      <td>1.000000</td>\n",
       "      <td>0.000000</td>\n",
       "    </tr>\n",
       "    <tr>\n",
       "      <th>25%</th>\n",
       "      <td>0.500000</td>\n",
       "      <td>1.000000</td>\n",
       "      <td>1.000000</td>\n",
       "      <td>0.500000</td>\n",
       "      <td>1.000000</td>\n",
       "      <td>0.500000</td>\n",
       "      <td>0.500000</td>\n",
       "      <td>1.000000</td>\n",
       "      <td>1.000000</td>\n",
       "      <td>0.500000</td>\n",
       "      <td>...</td>\n",
       "      <td>0.600000</td>\n",
       "      <td>50.000000</td>\n",
       "      <td>50.000000</td>\n",
       "      <td>201.000000</td>\n",
       "      <td>45.000000</td>\n",
       "      <td>50.000000</td>\n",
       "      <td>45.000000</td>\n",
       "      <td>9.000000</td>\n",
       "      <td>2.000000</td>\n",
       "      <td>0.000000</td>\n",
       "    </tr>\n",
       "    <tr>\n",
       "      <th>50%</th>\n",
       "      <td>1.000000</td>\n",
       "      <td>1.000000</td>\n",
       "      <td>1.000000</td>\n",
       "      <td>1.000000</td>\n",
       "      <td>1.000000</td>\n",
       "      <td>1.000000</td>\n",
       "      <td>1.000000</td>\n",
       "      <td>1.000000</td>\n",
       "      <td>1.000000</td>\n",
       "      <td>1.000000</td>\n",
       "      <td>...</td>\n",
       "      <td>1.000000</td>\n",
       "      <td>65.000000</td>\n",
       "      <td>50.000000</td>\n",
       "      <td>401.000000</td>\n",
       "      <td>65.000000</td>\n",
       "      <td>66.000000</td>\n",
       "      <td>65.000000</td>\n",
       "      <td>27.300000</td>\n",
       "      <td>4.000000</td>\n",
       "      <td>0.000000</td>\n",
       "    </tr>\n",
       "    <tr>\n",
       "      <th>75%</th>\n",
       "      <td>1.000000</td>\n",
       "      <td>1.000000</td>\n",
       "      <td>1.000000</td>\n",
       "      <td>1.000000</td>\n",
       "      <td>1.000000</td>\n",
       "      <td>1.000000</td>\n",
       "      <td>2.000000</td>\n",
       "      <td>1.000000</td>\n",
       "      <td>1.000000</td>\n",
       "      <td>1.000000</td>\n",
       "      <td>...</td>\n",
       "      <td>1.500000</td>\n",
       "      <td>80.000000</td>\n",
       "      <td>50.000000</td>\n",
       "      <td>601.000000</td>\n",
       "      <td>91.000000</td>\n",
       "      <td>90.000000</td>\n",
       "      <td>85.000000</td>\n",
       "      <td>64.800000</td>\n",
       "      <td>5.000000</td>\n",
       "      <td>0.000000</td>\n",
       "    </tr>\n",
       "    <tr>\n",
       "      <th>max</th>\n",
       "      <td>4.000000</td>\n",
       "      <td>4.000000</td>\n",
       "      <td>2.000000</td>\n",
       "      <td>4.000000</td>\n",
       "      <td>4.000000</td>\n",
       "      <td>4.000000</td>\n",
       "      <td>4.000000</td>\n",
       "      <td>4.000000</td>\n",
       "      <td>4.000000</td>\n",
       "      <td>4.000000</td>\n",
       "      <td>...</td>\n",
       "      <td>14.500000</td>\n",
       "      <td>255.000000</td>\n",
       "      <td>100.000000</td>\n",
       "      <td>801.000000</td>\n",
       "      <td>194.000000</td>\n",
       "      <td>230.000000</td>\n",
       "      <td>180.000000</td>\n",
       "      <td>999.900000</td>\n",
       "      <td>7.000000</td>\n",
       "      <td>1.000000</td>\n",
       "    </tr>\n",
       "  </tbody>\n",
       "</table>\n",
       "<p>8 rows × 34 columns</p>\n",
       "</div>"
      ],
      "text/plain": [
       "       against_bug  against_dark  against_dragon  against_electric  \\\n",
       "count   801.000000    801.000000      801.000000        801.000000   \n",
       "mean      0.996255      1.057116        0.968789          1.073970   \n",
       "std       0.597248      0.438142        0.353058          0.654962   \n",
       "min       0.250000      0.250000        0.000000          0.000000   \n",
       "25%       0.500000      1.000000        1.000000          0.500000   \n",
       "50%       1.000000      1.000000        1.000000          1.000000   \n",
       "75%       1.000000      1.000000        1.000000          1.000000   \n",
       "max       4.000000      4.000000        2.000000          4.000000   \n",
       "\n",
       "       against_fairy  against_fight  against_fire  against_flying  \\\n",
       "count     801.000000     801.000000    801.000000      801.000000   \n",
       "mean        1.068976       1.065543      1.135456        1.192884   \n",
       "std         0.522167       0.717251      0.691853        0.604488   \n",
       "min         0.250000       0.000000      0.250000        0.250000   \n",
       "25%         1.000000       0.500000      0.500000        1.000000   \n",
       "50%         1.000000       1.000000      1.000000        1.000000   \n",
       "75%         1.000000       1.000000      2.000000        1.000000   \n",
       "max         4.000000       4.000000      4.000000        4.000000   \n",
       "\n",
       "       against_ghost  against_grass  ...    height_m          hp  \\\n",
       "count     801.000000     801.000000  ...  781.000000  801.000000   \n",
       "mean        0.985019       1.034020  ...    1.163892   68.958801   \n",
       "std         0.558256       0.788896  ...    1.080326   26.576015   \n",
       "min         0.000000       0.250000  ...    0.100000    1.000000   \n",
       "25%         1.000000       0.500000  ...    0.600000   50.000000   \n",
       "50%         1.000000       1.000000  ...    1.000000   65.000000   \n",
       "75%         1.000000       1.000000  ...    1.500000   80.000000   \n",
       "max         4.000000       4.000000  ...   14.500000  255.000000   \n",
       "\n",
       "       percentage_male  pokedex_number   sp_attack  sp_defense       speed  \\\n",
       "count       703.000000      801.000000  801.000000  801.000000  801.000000   \n",
       "mean         55.155761      401.000000   71.305868   70.911361   66.334582   \n",
       "std          20.261623      231.373075   32.353826   27.942501   28.907662   \n",
       "min           0.000000        1.000000   10.000000   20.000000    5.000000   \n",
       "25%          50.000000      201.000000   45.000000   50.000000   45.000000   \n",
       "50%          50.000000      401.000000   65.000000   66.000000   65.000000   \n",
       "75%          50.000000      601.000000   91.000000   90.000000   85.000000   \n",
       "max         100.000000      801.000000  194.000000  230.000000  180.000000   \n",
       "\n",
       "        weight_kg  generation  is_legendary  \n",
       "count  781.000000  801.000000    801.000000  \n",
       "mean    61.378105    3.690387      0.087391  \n",
       "std    109.354766    1.930420      0.282583  \n",
       "min      0.100000    1.000000      0.000000  \n",
       "25%      9.000000    2.000000      0.000000  \n",
       "50%     27.300000    4.000000      0.000000  \n",
       "75%     64.800000    5.000000      0.000000  \n",
       "max    999.900000    7.000000      1.000000  \n",
       "\n",
       "[8 rows x 34 columns]"
      ]
     },
     "execution_count": 4,
     "metadata": {},
     "output_type": "execute_result"
    }
   ],
   "source": [
    "pokemon.describe()"
   ]
  },
  {
   "cell_type": "markdown",
   "metadata": {},
   "source": [
    "Doesn't seem like there is anything to clean"
   ]
  },
  {
   "cell_type": "code",
   "execution_count": 5,
   "metadata": {},
   "outputs": [
    {
     "data": {
      "text/plain": [
       "abilities            ['Overgrow', 'Chlorophyll']\n",
       "against_bug                                    1\n",
       "against_dark                                   1\n",
       "against_dragon                                 1\n",
       "against_electric                             0.5\n",
       "against_fairy                                0.5\n",
       "against_fight                                0.5\n",
       "against_fire                                   2\n",
       "against_flying                                 2\n",
       "against_ghost                                  1\n",
       "against_grass                               0.25\n",
       "against_ground                                 1\n",
       "against_ice                                    2\n",
       "against_normal                                 1\n",
       "against_poison                                 1\n",
       "against_psychic                                2\n",
       "against_rock                                   1\n",
       "against_steel                                  1\n",
       "against_water                                0.5\n",
       "attack                                        62\n",
       "base_egg_steps                              5120\n",
       "base_happiness                                70\n",
       "base_total                                   405\n",
       "capture_rate                                  45\n",
       "classfication                       Seed Pokémon\n",
       "defense                                       63\n",
       "experience_growth                        1059860\n",
       "height_m                                       1\n",
       "hp                                            60\n",
       "japanese_name                    Fushigisouフシギソウ\n",
       "name                                     Ivysaur\n",
       "percentage_male                             88.1\n",
       "pokedex_number                                 2\n",
       "sp_attack                                     80\n",
       "sp_defense                                    80\n",
       "speed                                         60\n",
       "type1                                      grass\n",
       "type2                                     poison\n",
       "weight_kg                                     13\n",
       "generation                                     1\n",
       "is_legendary                                   0\n",
       "Name: 1, dtype: object"
      ]
     },
     "execution_count": 5,
     "metadata": {},
     "output_type": "execute_result"
    }
   ],
   "source": [
    "pokemon.iloc[1]"
   ]
  },
  {
   "cell_type": "code",
   "execution_count": 6,
   "metadata": {},
   "outputs": [
    {
     "data": {
      "text/plain": [
       "Index(['abilities', 'against_bug', 'against_dark', 'against_dragon',\n",
       "       'against_electric', 'against_fairy', 'against_fight', 'against_fire',\n",
       "       'against_flying', 'against_ghost', 'against_grass', 'against_ground',\n",
       "       'against_ice', 'against_normal', 'against_poison', 'against_psychic',\n",
       "       'against_rock', 'against_steel', 'against_water', 'attack',\n",
       "       'base_egg_steps', 'base_happiness', 'base_total', 'capture_rate',\n",
       "       'classfication', 'defense', 'experience_growth', 'height_m', 'hp',\n",
       "       'japanese_name', 'name', 'percentage_male', 'pokedex_number',\n",
       "       'sp_attack', 'sp_defense', 'speed', 'type1', 'type2', 'weight_kg',\n",
       "       'generation', 'is_legendary'],\n",
       "      dtype='object')"
      ]
     },
     "execution_count": 6,
     "metadata": {},
     "output_type": "execute_result"
    }
   ],
   "source": [
    "pokemon.columns"
   ]
  },
  {
   "cell_type": "markdown",
   "metadata": {},
   "source": [
    "select the columns we want"
   ]
  },
  {
   "cell_type": "code",
   "execution_count": 7,
   "metadata": {},
   "outputs": [],
   "source": [
    "pokemon = pokemon[['pokedex_number','generation','name','base_egg_steps','base_happiness','base_total','capture_rate','classfication','defense','experience_growth','height_m','attack','hp','sp_attack','sp_defense','speed','type1','type2','weight_kg','is_legendary']]"
   ]
  },
  {
   "cell_type": "code",
   "execution_count": 8,
   "metadata": {},
   "outputs": [
    {
     "data": {
      "text/html": [
       "<div>\n",
       "<style scoped>\n",
       "    .dataframe tbody tr th:only-of-type {\n",
       "        vertical-align: middle;\n",
       "    }\n",
       "\n",
       "    .dataframe tbody tr th {\n",
       "        vertical-align: top;\n",
       "    }\n",
       "\n",
       "    .dataframe thead th {\n",
       "        text-align: right;\n",
       "    }\n",
       "</style>\n",
       "<table border=\"1\" class=\"dataframe\">\n",
       "  <thead>\n",
       "    <tr style=\"text-align: right;\">\n",
       "      <th></th>\n",
       "      <th>pokedex_number</th>\n",
       "      <th>generation</th>\n",
       "      <th>name</th>\n",
       "      <th>base_egg_steps</th>\n",
       "      <th>base_happiness</th>\n",
       "      <th>base_total</th>\n",
       "      <th>capture_rate</th>\n",
       "      <th>classfication</th>\n",
       "      <th>defense</th>\n",
       "      <th>experience_growth</th>\n",
       "      <th>height_m</th>\n",
       "      <th>attack</th>\n",
       "      <th>hp</th>\n",
       "      <th>sp_attack</th>\n",
       "      <th>sp_defense</th>\n",
       "      <th>speed</th>\n",
       "      <th>type1</th>\n",
       "      <th>type2</th>\n",
       "      <th>weight_kg</th>\n",
       "      <th>is_legendary</th>\n",
       "    </tr>\n",
       "  </thead>\n",
       "  <tbody>\n",
       "    <tr>\n",
       "      <th>0</th>\n",
       "      <td>1</td>\n",
       "      <td>1</td>\n",
       "      <td>Bulbasaur</td>\n",
       "      <td>5120</td>\n",
       "      <td>70</td>\n",
       "      <td>318</td>\n",
       "      <td>45</td>\n",
       "      <td>Seed Pokémon</td>\n",
       "      <td>49</td>\n",
       "      <td>1059860</td>\n",
       "      <td>0.7</td>\n",
       "      <td>49</td>\n",
       "      <td>45</td>\n",
       "      <td>65</td>\n",
       "      <td>65</td>\n",
       "      <td>45</td>\n",
       "      <td>grass</td>\n",
       "      <td>poison</td>\n",
       "      <td>6.9</td>\n",
       "      <td>0</td>\n",
       "    </tr>\n",
       "    <tr>\n",
       "      <th>1</th>\n",
       "      <td>2</td>\n",
       "      <td>1</td>\n",
       "      <td>Ivysaur</td>\n",
       "      <td>5120</td>\n",
       "      <td>70</td>\n",
       "      <td>405</td>\n",
       "      <td>45</td>\n",
       "      <td>Seed Pokémon</td>\n",
       "      <td>63</td>\n",
       "      <td>1059860</td>\n",
       "      <td>1.0</td>\n",
       "      <td>62</td>\n",
       "      <td>60</td>\n",
       "      <td>80</td>\n",
       "      <td>80</td>\n",
       "      <td>60</td>\n",
       "      <td>grass</td>\n",
       "      <td>poison</td>\n",
       "      <td>13.0</td>\n",
       "      <td>0</td>\n",
       "    </tr>\n",
       "    <tr>\n",
       "      <th>2</th>\n",
       "      <td>3</td>\n",
       "      <td>1</td>\n",
       "      <td>Venusaur</td>\n",
       "      <td>5120</td>\n",
       "      <td>70</td>\n",
       "      <td>625</td>\n",
       "      <td>45</td>\n",
       "      <td>Seed Pokémon</td>\n",
       "      <td>123</td>\n",
       "      <td>1059860</td>\n",
       "      <td>2.0</td>\n",
       "      <td>100</td>\n",
       "      <td>80</td>\n",
       "      <td>122</td>\n",
       "      <td>120</td>\n",
       "      <td>80</td>\n",
       "      <td>grass</td>\n",
       "      <td>poison</td>\n",
       "      <td>100.0</td>\n",
       "      <td>0</td>\n",
       "    </tr>\n",
       "    <tr>\n",
       "      <th>3</th>\n",
       "      <td>4</td>\n",
       "      <td>1</td>\n",
       "      <td>Charmander</td>\n",
       "      <td>5120</td>\n",
       "      <td>70</td>\n",
       "      <td>309</td>\n",
       "      <td>45</td>\n",
       "      <td>Lizard Pokémon</td>\n",
       "      <td>43</td>\n",
       "      <td>1059860</td>\n",
       "      <td>0.6</td>\n",
       "      <td>52</td>\n",
       "      <td>39</td>\n",
       "      <td>60</td>\n",
       "      <td>50</td>\n",
       "      <td>65</td>\n",
       "      <td>fire</td>\n",
       "      <td>NaN</td>\n",
       "      <td>8.5</td>\n",
       "      <td>0</td>\n",
       "    </tr>\n",
       "    <tr>\n",
       "      <th>4</th>\n",
       "      <td>5</td>\n",
       "      <td>1</td>\n",
       "      <td>Charmeleon</td>\n",
       "      <td>5120</td>\n",
       "      <td>70</td>\n",
       "      <td>405</td>\n",
       "      <td>45</td>\n",
       "      <td>Flame Pokémon</td>\n",
       "      <td>58</td>\n",
       "      <td>1059860</td>\n",
       "      <td>1.1</td>\n",
       "      <td>64</td>\n",
       "      <td>58</td>\n",
       "      <td>80</td>\n",
       "      <td>65</td>\n",
       "      <td>80</td>\n",
       "      <td>fire</td>\n",
       "      <td>NaN</td>\n",
       "      <td>19.0</td>\n",
       "      <td>0</td>\n",
       "    </tr>\n",
       "  </tbody>\n",
       "</table>\n",
       "</div>"
      ],
      "text/plain": [
       "   pokedex_number  generation        name  base_egg_steps  base_happiness  \\\n",
       "0               1           1   Bulbasaur            5120              70   \n",
       "1               2           1     Ivysaur            5120              70   \n",
       "2               3           1    Venusaur            5120              70   \n",
       "3               4           1  Charmander            5120              70   \n",
       "4               5           1  Charmeleon            5120              70   \n",
       "\n",
       "   base_total capture_rate   classfication  defense  experience_growth  \\\n",
       "0         318           45    Seed Pokémon       49            1059860   \n",
       "1         405           45    Seed Pokémon       63            1059860   \n",
       "2         625           45    Seed Pokémon      123            1059860   \n",
       "3         309           45  Lizard Pokémon       43            1059860   \n",
       "4         405           45   Flame Pokémon       58            1059860   \n",
       "\n",
       "   height_m  attack  hp  sp_attack  sp_defense  speed  type1   type2  \\\n",
       "0       0.7      49  45         65          65     45  grass  poison   \n",
       "1       1.0      62  60         80          80     60  grass  poison   \n",
       "2       2.0     100  80        122         120     80  grass  poison   \n",
       "3       0.6      52  39         60          50     65   fire     NaN   \n",
       "4       1.1      64  58         80          65     80   fire     NaN   \n",
       "\n",
       "   weight_kg  is_legendary  \n",
       "0        6.9             0  \n",
       "1       13.0             0  \n",
       "2      100.0             0  \n",
       "3        8.5             0  \n",
       "4       19.0             0  "
      ]
     },
     "execution_count": 8,
     "metadata": {},
     "output_type": "execute_result"
    }
   ],
   "source": [
    "pokemon.head()"
   ]
  },
  {
   "cell_type": "code",
   "execution_count": 9,
   "metadata": {},
   "outputs": [],
   "source": [
    "generations = pokemon.groupby('generation')"
   ]
  },
  {
   "cell_type": "code",
   "execution_count": 10,
   "metadata": {},
   "outputs": [
    {
     "data": {
      "text/plain": [
       "generation\n",
       "1    5933.774834\n",
       "2    6528.000000\n",
       "3    7054.222222\n",
       "4    7895.327103\n",
       "5    7228.717949\n",
       "6    7200.000000\n",
       "7    9600.000000\n",
       "Name: base_egg_steps, dtype: float64"
      ]
     },
     "execution_count": 10,
     "metadata": {},
     "output_type": "execute_result"
    }
   ],
   "source": [
    "generations['base_egg_steps'].mean()"
   ]
  },
  {
   "cell_type": "code",
   "execution_count": 11,
   "metadata": {},
   "outputs": [
    {
     "data": {
      "text/html": [
       "<div>\n",
       "<style scoped>\n",
       "    .dataframe tbody tr th:only-of-type {\n",
       "        vertical-align: middle;\n",
       "    }\n",
       "\n",
       "    .dataframe tbody tr th {\n",
       "        vertical-align: top;\n",
       "    }\n",
       "\n",
       "    .dataframe thead th {\n",
       "        text-align: right;\n",
       "    }\n",
       "</style>\n",
       "<table border=\"1\" class=\"dataframe\">\n",
       "  <thead>\n",
       "    <tr style=\"text-align: right;\">\n",
       "      <th></th>\n",
       "      <th>count</th>\n",
       "      <th>mean</th>\n",
       "      <th>std</th>\n",
       "      <th>min</th>\n",
       "      <th>25%</th>\n",
       "      <th>50%</th>\n",
       "      <th>75%</th>\n",
       "      <th>max</th>\n",
       "    </tr>\n",
       "    <tr>\n",
       "      <th>generation</th>\n",
       "      <th></th>\n",
       "      <th></th>\n",
       "      <th></th>\n",
       "      <th></th>\n",
       "      <th></th>\n",
       "      <th></th>\n",
       "      <th></th>\n",
       "      <th></th>\n",
       "    </tr>\n",
       "  </thead>\n",
       "  <tbody>\n",
       "    <tr>\n",
       "      <th>1</th>\n",
       "      <td>151.0</td>\n",
       "      <td>5933.774834</td>\n",
       "      <td>3906.226268</td>\n",
       "      <td>1280.0</td>\n",
       "      <td>5120.0</td>\n",
       "      <td>5120.0</td>\n",
       "      <td>5120.0</td>\n",
       "      <td>30720.0</td>\n",
       "    </tr>\n",
       "    <tr>\n",
       "      <th>2</th>\n",
       "      <td>100.0</td>\n",
       "      <td>6528.000000</td>\n",
       "      <td>5236.650946</td>\n",
       "      <td>2560.0</td>\n",
       "      <td>5120.0</td>\n",
       "      <td>5120.0</td>\n",
       "      <td>5120.0</td>\n",
       "      <td>30720.0</td>\n",
       "    </tr>\n",
       "    <tr>\n",
       "      <th>3</th>\n",
       "      <td>135.0</td>\n",
       "      <td>7054.222222</td>\n",
       "      <td>6215.596112</td>\n",
       "      <td>2560.0</td>\n",
       "      <td>3840.0</td>\n",
       "      <td>5120.0</td>\n",
       "      <td>6400.0</td>\n",
       "      <td>30720.0</td>\n",
       "    </tr>\n",
       "    <tr>\n",
       "      <th>4</th>\n",
       "      <td>107.0</td>\n",
       "      <td>7895.327103</td>\n",
       "      <td>7164.561938</td>\n",
       "      <td>2560.0</td>\n",
       "      <td>5120.0</td>\n",
       "      <td>5120.0</td>\n",
       "      <td>7680.0</td>\n",
       "      <td>30720.0</td>\n",
       "    </tr>\n",
       "    <tr>\n",
       "      <th>5</th>\n",
       "      <td>156.0</td>\n",
       "      <td>7228.717949</td>\n",
       "      <td>6480.920357</td>\n",
       "      <td>2560.0</td>\n",
       "      <td>5120.0</td>\n",
       "      <td>5120.0</td>\n",
       "      <td>5120.0</td>\n",
       "      <td>30720.0</td>\n",
       "    </tr>\n",
       "    <tr>\n",
       "      <th>6</th>\n",
       "      <td>72.0</td>\n",
       "      <td>7200.000000</td>\n",
       "      <td>6616.070916</td>\n",
       "      <td>3840.0</td>\n",
       "      <td>5120.0</td>\n",
       "      <td>5120.0</td>\n",
       "      <td>5120.0</td>\n",
       "      <td>30720.0</td>\n",
       "    </tr>\n",
       "    <tr>\n",
       "      <th>7</th>\n",
       "      <td>80.0</td>\n",
       "      <td>9600.000000</td>\n",
       "      <td>10290.508346</td>\n",
       "      <td>2560.0</td>\n",
       "      <td>3840.0</td>\n",
       "      <td>5120.0</td>\n",
       "      <td>5440.0</td>\n",
       "      <td>30720.0</td>\n",
       "    </tr>\n",
       "  </tbody>\n",
       "</table>\n",
       "</div>"
      ],
      "text/plain": [
       "            count         mean           std     min     25%     50%     75%  \\\n",
       "generation                                                                     \n",
       "1           151.0  5933.774834   3906.226268  1280.0  5120.0  5120.0  5120.0   \n",
       "2           100.0  6528.000000   5236.650946  2560.0  5120.0  5120.0  5120.0   \n",
       "3           135.0  7054.222222   6215.596112  2560.0  3840.0  5120.0  6400.0   \n",
       "4           107.0  7895.327103   7164.561938  2560.0  5120.0  5120.0  7680.0   \n",
       "5           156.0  7228.717949   6480.920357  2560.0  5120.0  5120.0  5120.0   \n",
       "6            72.0  7200.000000   6616.070916  3840.0  5120.0  5120.0  5120.0   \n",
       "7            80.0  9600.000000  10290.508346  2560.0  3840.0  5120.0  5440.0   \n",
       "\n",
       "                max  \n",
       "generation           \n",
       "1           30720.0  \n",
       "2           30720.0  \n",
       "3           30720.0  \n",
       "4           30720.0  \n",
       "5           30720.0  \n",
       "6           30720.0  \n",
       "7           30720.0  "
      ]
     },
     "execution_count": 11,
     "metadata": {},
     "output_type": "execute_result"
    }
   ],
   "source": [
    "generations['base_egg_steps'].describe()"
   ]
  },
  {
   "cell_type": "code",
   "execution_count": null,
   "metadata": {},
   "outputs": [],
   "source": []
  },
  {
   "cell_type": "code",
   "execution_count": 12,
   "metadata": {
    "scrolled": true
   },
   "outputs": [
    {
     "data": {
      "image/png": "[encoded data removed]",
      "text/plain": [
       "<Figure size 432x288 with 1 Axes>"
      ]
     },
     "metadata": {
      "needs_background": "light"
     },
     "output_type": "display_data"
    }
   ],
   "source": [
    "plt.bar(range(1,8),generations['base_egg_steps'].mean().tolist())\n",
    "plt.title('base egg steps per generation')\n",
    "plt.xlabel('generation')\n",
    "plt.ylabel('base egg steps');"
   ]
  },
  {
   "cell_type": "markdown",
   "metadata": {},
   "source": [
    "It seems like egg steps increase each generation. Why is this the case? Let's look first at the average stat value of pokemon in each generation"
   ]
  },
  {
   "cell_type": "code",
   "execution_count": 13,
   "metadata": {},
   "outputs": [
    {
     "data": {
      "image/png": "[encoded data removed]",
      "text/plain": [
       "<Figure size 432x288 with 1 Axes>"
      ]
     },
     "metadata": {
      "needs_background": "light"
     },
     "output_type": "display_data"
    }
   ],
   "source": [
    "plt.bar(range(1,8),generations['base_total'].mean().tolist())\n",
    "plt.title('avg stat total per generation')\n",
    "plt.xlabel('generation')\n",
    "plt.ylabel('avg stat total');"
   ]
  },
  {
   "cell_type": "markdown",
   "metadata": {},
   "source": [
    "we can see a slight increase in average stat total per generation but nothing too alarming to warrant a massive spike in number of egg steps. Oddly enough, in the cell below we can see that the number of legendaries in each generation goes up, with the most being in gen7. One would assume that legendaries have higher than average stats and thus assume more legendaries = higher avg stat total yet we don't see a massive spike in gen7 average stat total in the graph above.\n",
    "\n",
    "Let's take a deeper look and distinguish between legendary and non-legendary stats. "
   ]
  },
  {
   "cell_type": "code",
   "execution_count": 14,
   "metadata": {},
   "outputs": [
    {
     "data": {
      "text/plain": [
       "generation\n",
       "1     5\n",
       "2     6\n",
       "3    10\n",
       "4    13\n",
       "5    13\n",
       "6     6\n",
       "7    17\n",
       "Name: is_legendary, dtype: int64"
      ]
     },
     "execution_count": 14,
     "metadata": {},
     "output_type": "execute_result"
    }
   ],
   "source": [
    "generations['is_legendary'].sum()"
   ]
  },
  {
   "cell_type": "code",
   "execution_count": 15,
   "metadata": {},
   "outputs": [],
   "source": [
    "#getting only legendaries\n",
    "legendary = pokemon.loc[pokemon['is_legendary']>0].groupby('generation')"
   ]
  },
  {
   "cell_type": "code",
   "execution_count": 16,
   "metadata": {},
   "outputs": [
    {
     "data": {
      "text/html": [
       "<div>\n",
       "<style scoped>\n",
       "    .dataframe tbody tr th:only-of-type {\n",
       "        vertical-align: middle;\n",
       "    }\n",
       "\n",
       "    .dataframe tbody tr th {\n",
       "        vertical-align: top;\n",
       "    }\n",
       "\n",
       "    .dataframe thead th {\n",
       "        text-align: right;\n",
       "    }\n",
       "</style>\n",
       "<table border=\"1\" class=\"dataframe\">\n",
       "  <thead>\n",
       "    <tr style=\"text-align: right;\">\n",
       "      <th></th>\n",
       "      <th>count</th>\n",
       "      <th>mean</th>\n",
       "      <th>std</th>\n",
       "      <th>min</th>\n",
       "      <th>25%</th>\n",
       "      <th>50%</th>\n",
       "      <th>75%</th>\n",
       "      <th>max</th>\n",
       "    </tr>\n",
       "    <tr>\n",
       "      <th>generation</th>\n",
       "      <th></th>\n",
       "      <th></th>\n",
       "      <th></th>\n",
       "      <th></th>\n",
       "      <th></th>\n",
       "      <th></th>\n",
       "      <th></th>\n",
       "      <th></th>\n",
       "    </tr>\n",
       "  </thead>\n",
       "  <tbody>\n",
       "    <tr>\n",
       "      <th>1</th>\n",
       "      <td>5.0</td>\n",
       "      <td>24576.000000</td>\n",
       "      <td>5608.678989</td>\n",
       "      <td>20480.0</td>\n",
       "      <td>20480.0</td>\n",
       "      <td>20480.0</td>\n",
       "      <td>30720.0</td>\n",
       "      <td>30720.0</td>\n",
       "    </tr>\n",
       "    <tr>\n",
       "      <th>2</th>\n",
       "      <td>6.0</td>\n",
       "      <td>25600.000000</td>\n",
       "      <td>5608.678989</td>\n",
       "      <td>20480.0</td>\n",
       "      <td>20480.0</td>\n",
       "      <td>25600.0</td>\n",
       "      <td>30720.0</td>\n",
       "      <td>30720.0</td>\n",
       "    </tr>\n",
       "    <tr>\n",
       "      <th>3</th>\n",
       "      <td>10.0</td>\n",
       "      <td>27648.000000</td>\n",
       "      <td>4946.389929</td>\n",
       "      <td>20480.0</td>\n",
       "      <td>23040.0</td>\n",
       "      <td>30720.0</td>\n",
       "      <td>30720.0</td>\n",
       "      <td>30720.0</td>\n",
       "    </tr>\n",
       "    <tr>\n",
       "      <th>4</th>\n",
       "      <td>13.0</td>\n",
       "      <td>24024.615385</td>\n",
       "      <td>10479.256188</td>\n",
       "      <td>2560.0</td>\n",
       "      <td>20480.0</td>\n",
       "      <td>30720.0</td>\n",
       "      <td>30720.0</td>\n",
       "      <td>30720.0</td>\n",
       "    </tr>\n",
       "    <tr>\n",
       "      <th>5</th>\n",
       "      <td>13.0</td>\n",
       "      <td>27569.230769</td>\n",
       "      <td>4919.136885</td>\n",
       "      <td>20480.0</td>\n",
       "      <td>20480.0</td>\n",
       "      <td>30720.0</td>\n",
       "      <td>30720.0</td>\n",
       "      <td>30720.0</td>\n",
       "    </tr>\n",
       "    <tr>\n",
       "      <th>6</th>\n",
       "      <td>6.0</td>\n",
       "      <td>26666.666667</td>\n",
       "      <td>9928.598424</td>\n",
       "      <td>6400.0</td>\n",
       "      <td>30720.0</td>\n",
       "      <td>30720.0</td>\n",
       "      <td>30720.0</td>\n",
       "      <td>30720.0</td>\n",
       "    </tr>\n",
       "    <tr>\n",
       "      <th>7</th>\n",
       "      <td>17.0</td>\n",
       "      <td>24395.294118</td>\n",
       "      <td>11752.939057</td>\n",
       "      <td>3840.0</td>\n",
       "      <td>30720.0</td>\n",
       "      <td>30720.0</td>\n",
       "      <td>30720.0</td>\n",
       "      <td>30720.0</td>\n",
       "    </tr>\n",
       "  </tbody>\n",
       "</table>\n",
       "</div>"
      ],
      "text/plain": [
       "            count          mean           std      min      25%      50%  \\\n",
       "generation                                                                 \n",
       "1             5.0  24576.000000   5608.678989  20480.0  20480.0  20480.0   \n",
       "2             6.0  25600.000000   5608.678989  20480.0  20480.0  25600.0   \n",
       "3            10.0  27648.000000   4946.389929  20480.0  23040.0  30720.0   \n",
       "4            13.0  24024.615385  10479.256188   2560.0  20480.0  30720.0   \n",
       "5            13.0  27569.230769   4919.136885  20480.0  20480.0  30720.0   \n",
       "6             6.0  26666.666667   9928.598424   6400.0  30720.0  30720.0   \n",
       "7            17.0  24395.294118  11752.939057   3840.0  30720.0  30720.0   \n",
       "\n",
       "                75%      max  \n",
       "generation                    \n",
       "1           30720.0  30720.0  \n",
       "2           30720.0  30720.0  \n",
       "3           30720.0  30720.0  \n",
       "4           30720.0  30720.0  \n",
       "5           30720.0  30720.0  \n",
       "6           30720.0  30720.0  \n",
       "7           30720.0  30720.0  "
      ]
     },
     "execution_count": 16,
     "metadata": {},
     "output_type": "execute_result"
    }
   ],
   "source": [
    "legendary['base_egg_steps'].describe()"
   ]
  },
  {
   "cell_type": "code",
   "execution_count": 17,
   "metadata": {},
   "outputs": [
    {
     "data": {
      "text/html": [
       "<div>\n",
       "<style scoped>\n",
       "    .dataframe tbody tr th:only-of-type {\n",
       "        vertical-align: middle;\n",
       "    }\n",
       "\n",
       "    .dataframe tbody tr th {\n",
       "        vertical-align: top;\n",
       "    }\n",
       "\n",
       "    .dataframe thead th {\n",
       "        text-align: right;\n",
       "    }\n",
       "</style>\n",
       "<table border=\"1\" class=\"dataframe\">\n",
       "  <thead>\n",
       "    <tr style=\"text-align: right;\">\n",
       "      <th></th>\n",
       "      <th>count</th>\n",
       "      <th>mean</th>\n",
       "      <th>std</th>\n",
       "      <th>min</th>\n",
       "      <th>25%</th>\n",
       "      <th>50%</th>\n",
       "      <th>75%</th>\n",
       "      <th>max</th>\n",
       "    </tr>\n",
       "    <tr>\n",
       "      <th>generation</th>\n",
       "      <th></th>\n",
       "      <th></th>\n",
       "      <th></th>\n",
       "      <th></th>\n",
       "      <th></th>\n",
       "      <th></th>\n",
       "      <th></th>\n",
       "      <th></th>\n",
       "    </tr>\n",
       "  </thead>\n",
       "  <tbody>\n",
       "    <tr>\n",
       "      <th>1</th>\n",
       "      <td>5.0</td>\n",
       "      <td>624.000000</td>\n",
       "      <td>87.635609</td>\n",
       "      <td>580.0</td>\n",
       "      <td>580.0</td>\n",
       "      <td>580.0</td>\n",
       "      <td>600.0</td>\n",
       "      <td>780.0</td>\n",
       "    </tr>\n",
       "    <tr>\n",
       "      <th>2</th>\n",
       "      <td>6.0</td>\n",
       "      <td>616.666667</td>\n",
       "      <td>49.665548</td>\n",
       "      <td>580.0</td>\n",
       "      <td>580.0</td>\n",
       "      <td>590.0</td>\n",
       "      <td>660.0</td>\n",
       "      <td>680.0</td>\n",
       "    </tr>\n",
       "    <tr>\n",
       "      <th>3</th>\n",
       "      <td>10.0</td>\n",
       "      <td>666.000000</td>\n",
       "      <td>86.820377</td>\n",
       "      <td>580.0</td>\n",
       "      <td>585.0</td>\n",
       "      <td>650.0</td>\n",
       "      <td>752.5</td>\n",
       "      <td>780.0</td>\n",
       "    </tr>\n",
       "    <tr>\n",
       "      <th>4</th>\n",
       "      <td>13.0</td>\n",
       "      <td>628.461538</td>\n",
       "      <td>49.302832</td>\n",
       "      <td>580.0</td>\n",
       "      <td>600.0</td>\n",
       "      <td>600.0</td>\n",
       "      <td>680.0</td>\n",
       "      <td>720.0</td>\n",
       "    </tr>\n",
       "    <tr>\n",
       "      <th>5</th>\n",
       "      <td>13.0</td>\n",
       "      <td>610.769231</td>\n",
       "      <td>44.433759</td>\n",
       "      <td>580.0</td>\n",
       "      <td>580.0</td>\n",
       "      <td>600.0</td>\n",
       "      <td>600.0</td>\n",
       "      <td>700.0</td>\n",
       "    </tr>\n",
       "    <tr>\n",
       "      <th>6</th>\n",
       "      <td>6.0</td>\n",
       "      <td>674.666667</td>\n",
       "      <td>38.505411</td>\n",
       "      <td>600.0</td>\n",
       "      <td>680.0</td>\n",
       "      <td>680.0</td>\n",
       "      <td>695.0</td>\n",
       "      <td>708.0</td>\n",
       "    </tr>\n",
       "    <tr>\n",
       "      <th>7</th>\n",
       "      <td>17.0</td>\n",
       "      <td>554.705882</td>\n",
       "      <td>108.346530</td>\n",
       "      <td>200.0</td>\n",
       "      <td>570.0</td>\n",
       "      <td>570.0</td>\n",
       "      <td>570.0</td>\n",
       "      <td>680.0</td>\n",
       "    </tr>\n",
       "  </tbody>\n",
       "</table>\n",
       "</div>"
      ],
      "text/plain": [
       "            count        mean         std    min    25%    50%    75%    max\n",
       "generation                                                                  \n",
       "1             5.0  624.000000   87.635609  580.0  580.0  580.0  600.0  780.0\n",
       "2             6.0  616.666667   49.665548  580.0  580.0  590.0  660.0  680.0\n",
       "3            10.0  666.000000   86.820377  580.0  585.0  650.0  752.5  780.0\n",
       "4            13.0  628.461538   49.302832  580.0  600.0  600.0  680.0  720.0\n",
       "5            13.0  610.769231   44.433759  580.0  580.0  600.0  600.0  700.0\n",
       "6             6.0  674.666667   38.505411  600.0  680.0  680.0  695.0  708.0\n",
       "7            17.0  554.705882  108.346530  200.0  570.0  570.0  570.0  680.0"
      ]
     },
     "execution_count": 17,
     "metadata": {},
     "output_type": "execute_result"
    }
   ],
   "source": [
    "legendary['base_total'].describe()"
   ]
  },
  {
   "cell_type": "code",
   "execution_count": 18,
   "metadata": {},
   "outputs": [],
   "source": [
    "#getting non-legendaries\n",
    "nonleg = pokemon.loc[pokemon['is_legendary']==0].groupby('generation')"
   ]
  },
  {
   "cell_type": "code",
   "execution_count": 19,
   "metadata": {},
   "outputs": [
    {
     "data": {
      "text/html": [
       "<div>\n",
       "<style scoped>\n",
       "    .dataframe tbody tr th:only-of-type {\n",
       "        vertical-align: middle;\n",
       "    }\n",
       "\n",
       "    .dataframe tbody tr th {\n",
       "        vertical-align: top;\n",
       "    }\n",
       "\n",
       "    .dataframe thead th {\n",
       "        text-align: right;\n",
       "    }\n",
       "</style>\n",
       "<table border=\"1\" class=\"dataframe\">\n",
       "  <thead>\n",
       "    <tr style=\"text-align: right;\">\n",
       "      <th></th>\n",
       "      <th>count</th>\n",
       "      <th>mean</th>\n",
       "      <th>std</th>\n",
       "      <th>min</th>\n",
       "      <th>25%</th>\n",
       "      <th>50%</th>\n",
       "      <th>75%</th>\n",
       "      <th>max</th>\n",
       "    </tr>\n",
       "    <tr>\n",
       "      <th>generation</th>\n",
       "      <th></th>\n",
       "      <th></th>\n",
       "      <th></th>\n",
       "      <th></th>\n",
       "      <th></th>\n",
       "      <th></th>\n",
       "      <th></th>\n",
       "      <th></th>\n",
       "    </tr>\n",
       "  </thead>\n",
       "  <tbody>\n",
       "    <tr>\n",
       "      <th>1</th>\n",
       "      <td>146.0</td>\n",
       "      <td>5295.342466</td>\n",
       "      <td>1588.296925</td>\n",
       "      <td>1280.0</td>\n",
       "      <td>5120.0</td>\n",
       "      <td>5120.0</td>\n",
       "      <td>5120.0</td>\n",
       "      <td>10240.0</td>\n",
       "    </tr>\n",
       "    <tr>\n",
       "      <th>2</th>\n",
       "      <td>94.0</td>\n",
       "      <td>5310.638298</td>\n",
       "      <td>1592.287060</td>\n",
       "      <td>2560.0</td>\n",
       "      <td>5120.0</td>\n",
       "      <td>5120.0</td>\n",
       "      <td>5120.0</td>\n",
       "      <td>10240.0</td>\n",
       "    </tr>\n",
       "    <tr>\n",
       "      <th>3</th>\n",
       "      <td>125.0</td>\n",
       "      <td>5406.720000</td>\n",
       "      <td>1742.232428</td>\n",
       "      <td>2560.0</td>\n",
       "      <td>3840.0</td>\n",
       "      <td>5120.0</td>\n",
       "      <td>5120.0</td>\n",
       "      <td>10240.0</td>\n",
       "    </tr>\n",
       "    <tr>\n",
       "      <th>4</th>\n",
       "      <td>94.0</td>\n",
       "      <td>5664.680851</td>\n",
       "      <td>1715.137978</td>\n",
       "      <td>2560.0</td>\n",
       "      <td>5120.0</td>\n",
       "      <td>5120.0</td>\n",
       "      <td>6400.0</td>\n",
       "      <td>10240.0</td>\n",
       "    </tr>\n",
       "    <tr>\n",
       "      <th>5</th>\n",
       "      <td>143.0</td>\n",
       "      <td>5379.580420</td>\n",
       "      <td>1575.451589</td>\n",
       "      <td>2560.0</td>\n",
       "      <td>5120.0</td>\n",
       "      <td>5120.0</td>\n",
       "      <td>5120.0</td>\n",
       "      <td>10240.0</td>\n",
       "    </tr>\n",
       "    <tr>\n",
       "      <th>6</th>\n",
       "      <td>66.0</td>\n",
       "      <td>5430.303030</td>\n",
       "      <td>1438.735524</td>\n",
       "      <td>3840.0</td>\n",
       "      <td>5120.0</td>\n",
       "      <td>5120.0</td>\n",
       "      <td>5120.0</td>\n",
       "      <td>10240.0</td>\n",
       "    </tr>\n",
       "    <tr>\n",
       "      <th>7</th>\n",
       "      <td>63.0</td>\n",
       "      <td>5607.619048</td>\n",
       "      <td>4802.702772</td>\n",
       "      <td>2560.0</td>\n",
       "      <td>3840.0</td>\n",
       "      <td>5120.0</td>\n",
       "      <td>5120.0</td>\n",
       "      <td>30720.0</td>\n",
       "    </tr>\n",
       "  </tbody>\n",
       "</table>\n",
       "</div>"
      ],
      "text/plain": [
       "            count         mean          std     min     25%     50%     75%  \\\n",
       "generation                                                                    \n",
       "1           146.0  5295.342466  1588.296925  1280.0  5120.0  5120.0  5120.0   \n",
       "2            94.0  5310.638298  1592.287060  2560.0  5120.0  5120.0  5120.0   \n",
       "3           125.0  5406.720000  1742.232428  2560.0  3840.0  5120.0  5120.0   \n",
       "4            94.0  5664.680851  1715.137978  2560.0  5120.0  5120.0  6400.0   \n",
       "5           143.0  5379.580420  1575.451589  2560.0  5120.0  5120.0  5120.0   \n",
       "6            66.0  5430.303030  1438.735524  3840.0  5120.0  5120.0  5120.0   \n",
       "7            63.0  5607.619048  4802.702772  2560.0  3840.0  5120.0  5120.0   \n",
       "\n",
       "                max  \n",
       "generation           \n",
       "1           10240.0  \n",
       "2           10240.0  \n",
       "3           10240.0  \n",
       "4           10240.0  \n",
       "5           10240.0  \n",
       "6           10240.0  \n",
       "7           30720.0  "
      ]
     },
     "execution_count": 19,
     "metadata": {},
     "output_type": "execute_result"
    }
   ],
   "source": [
    "nonleg['base_egg_steps'].describe()"
   ]
  },
  {
   "cell_type": "code",
   "execution_count": 20,
   "metadata": {},
   "outputs": [
    {
     "data": {
      "text/html": [
       "<div>\n",
       "<style scoped>\n",
       "    .dataframe tbody tr th:only-of-type {\n",
       "        vertical-align: middle;\n",
       "    }\n",
       "\n",
       "    .dataframe tbody tr th {\n",
       "        vertical-align: top;\n",
       "    }\n",
       "\n",
       "    .dataframe thead th {\n",
       "        text-align: right;\n",
       "    }\n",
       "</style>\n",
       "<table border=\"1\" class=\"dataframe\">\n",
       "  <thead>\n",
       "    <tr style=\"text-align: right;\">\n",
       "      <th></th>\n",
       "      <th>count</th>\n",
       "      <th>mean</th>\n",
       "      <th>std</th>\n",
       "      <th>min</th>\n",
       "      <th>25%</th>\n",
       "      <th>50%</th>\n",
       "      <th>75%</th>\n",
       "      <th>max</th>\n",
       "    </tr>\n",
       "    <tr>\n",
       "      <th>generation</th>\n",
       "      <th></th>\n",
       "      <th></th>\n",
       "      <th></th>\n",
       "      <th></th>\n",
       "      <th></th>\n",
       "      <th></th>\n",
       "      <th></th>\n",
       "      <th></th>\n",
       "    </tr>\n",
       "  </thead>\n",
       "  <tbody>\n",
       "    <tr>\n",
       "      <th>1</th>\n",
       "      <td>146.0</td>\n",
       "      <td>409.136986</td>\n",
       "      <td>106.249195</td>\n",
       "      <td>195.0</td>\n",
       "      <td>320.00</td>\n",
       "      <td>405.0</td>\n",
       "      <td>490.0</td>\n",
       "      <td>640.0</td>\n",
       "    </tr>\n",
       "    <tr>\n",
       "      <th>2</th>\n",
       "      <td>94.0</td>\n",
       "      <td>400.191489</td>\n",
       "      <td>112.026617</td>\n",
       "      <td>180.0</td>\n",
       "      <td>315.00</td>\n",
       "      <td>410.0</td>\n",
       "      <td>477.5</td>\n",
       "      <td>700.0</td>\n",
       "    </tr>\n",
       "    <tr>\n",
       "      <th>3</th>\n",
       "      <td>125.0</td>\n",
       "      <td>400.344000</td>\n",
       "      <td>119.806100</td>\n",
       "      <td>190.0</td>\n",
       "      <td>300.00</td>\n",
       "      <td>405.0</td>\n",
       "      <td>475.0</td>\n",
       "      <td>700.0</td>\n",
       "    </tr>\n",
       "    <tr>\n",
       "      <th>4</th>\n",
       "      <td>94.0</td>\n",
       "      <td>426.659574</td>\n",
       "      <td>108.689313</td>\n",
       "      <td>194.0</td>\n",
       "      <td>330.00</td>\n",
       "      <td>453.0</td>\n",
       "      <td>515.0</td>\n",
       "      <td>700.0</td>\n",
       "    </tr>\n",
       "    <tr>\n",
       "      <th>5</th>\n",
       "      <td>143.0</td>\n",
       "      <td>410.335664</td>\n",
       "      <td>90.737196</td>\n",
       "      <td>255.0</td>\n",
       "      <td>316.00</td>\n",
       "      <td>418.0</td>\n",
       "      <td>490.0</td>\n",
       "      <td>600.0</td>\n",
       "    </tr>\n",
       "    <tr>\n",
       "      <th>6</th>\n",
       "      <td>66.0</td>\n",
       "      <td>416.060606</td>\n",
       "      <td>102.383123</td>\n",
       "      <td>200.0</td>\n",
       "      <td>326.25</td>\n",
       "      <td>427.0</td>\n",
       "      <td>500.0</td>\n",
       "      <td>640.0</td>\n",
       "    </tr>\n",
       "    <tr>\n",
       "      <th>7</th>\n",
       "      <td>63.0</td>\n",
       "      <td>419.412698</td>\n",
       "      <td>100.795167</td>\n",
       "      <td>210.0</td>\n",
       "      <td>320.00</td>\n",
       "      <td>454.0</td>\n",
       "      <td>490.0</td>\n",
       "      <td>620.0</td>\n",
       "    </tr>\n",
       "  </tbody>\n",
       "</table>\n",
       "</div>"
      ],
      "text/plain": [
       "            count        mean         std    min     25%    50%    75%    max\n",
       "generation                                                                   \n",
       "1           146.0  409.136986  106.249195  195.0  320.00  405.0  490.0  640.0\n",
       "2            94.0  400.191489  112.026617  180.0  315.00  410.0  477.5  700.0\n",
       "3           125.0  400.344000  119.806100  190.0  300.00  405.0  475.0  700.0\n",
       "4            94.0  426.659574  108.689313  194.0  330.00  453.0  515.0  700.0\n",
       "5           143.0  410.335664   90.737196  255.0  316.00  418.0  490.0  600.0\n",
       "6            66.0  416.060606  102.383123  200.0  326.25  427.0  500.0  640.0\n",
       "7            63.0  419.412698  100.795167  210.0  320.00  454.0  490.0  620.0"
      ]
     },
     "execution_count": 20,
     "metadata": {},
     "output_type": "execute_result"
    }
   ],
   "source": [
    "nonleg['base_total'].describe()"
   ]
  },
  {
   "cell_type": "code",
   "execution_count": 21,
   "metadata": {},
   "outputs": [
    {
     "data": {
      "image/png": "[encoded data removed]",
      "text/plain": [
       "<Figure size 504x432 with 1 Axes>"
      ]
     },
     "metadata": {
      "needs_background": "light"
     },
     "output_type": "display_data"
    }
   ],
   "source": [
    "bar(range(1,8),nonleg['base_total'].mean().tolist(),legendary['base_total'].mean().tolist(),'legendary vs non-legendary stats','generation','avg base stats','non-leg','leg')"
   ]
  },
  {
   "cell_type": "code",
   "execution_count": 22,
   "metadata": {},
   "outputs": [
    {
     "data": {
      "image/png": "[encoded data removed]",
      "text/plain": [
       "<Figure size 504x432 with 1 Axes>"
      ]
     },
     "metadata": {
      "needs_background": "light"
     },
     "output_type": "display_data"
    }
   ],
   "source": [
    "bar(range(1,8),nonleg['base_egg_steps'].mean().tolist(),legendary['base_egg_steps'].mean().tolist(),'legendary vs non-legendary egg steps','generation','egg steps','non-leg','leg')"
   ]
  },
  {
   "cell_type": "code",
   "execution_count": 23,
   "metadata": {},
   "outputs": [
    {
     "data": {
      "image/png": "[encoded data removed]",
      "text/plain": [
       "<Figure size 432x288 with 1 Axes>"
      ]
     },
     "metadata": {
      "needs_background": "light"
     },
     "output_type": "display_data"
    }
   ],
   "source": [
    "#taking a closer look at non-leg since its not too clear from the graph above\n",
    "plt.bar(range(1,8),nonleg['base_egg_steps'].mean().tolist())\n",
    "plt.title('non-legendary base egg steps')\n",
    "plt.xlabel('generation')\n",
    "plt.ylabel('base egg steps');"
   ]
  },
  {
   "cell_type": "markdown",
   "metadata": {},
   "source": [
    "Nothing too alarming to warrant the increase in egg steps that we saw in the first graph.\n",
    "\n",
    "Perhaps we could take a look at exp differences?"
   ]
  },
  {
   "cell_type": "code",
   "execution_count": 24,
   "metadata": {},
   "outputs": [
    {
     "data": {
      "text/plain": [
       "generation\n",
       "1    1.052281\n",
       "2    1.025866\n",
       "3    1.058856\n",
       "4    1.055664\n",
       "5    1.061557\n",
       "6    1.050528\n",
       "7    1.080352\n",
       "Name: experience_growth, dtype: float64"
      ]
     },
     "execution_count": 24,
     "metadata": {},
     "output_type": "execute_result"
    }
   ],
   "source": [
    "generations['experience_growth'].mean()/(10**6)"
   ]
  },
  {
   "cell_type": "markdown",
   "metadata": {},
   "source": [
    "The values are actually multiplied by 10^6. Not much of a difference in average exp required between generations.\n",
    "\n",
    "Now let's take a look at the correlation between each variable (mainly base_egg_steps). In the interest of saving space, I will omit the correlation per generation but it can be displayed by 'generations.corr()'."
   ]
  },
  {
   "cell_type": "code",
   "execution_count": 25,
   "metadata": {
    "scrolled": false
   },
   "outputs": [
    {
     "data": {
      "text/html": [
       "<div>\n",
       "<style scoped>\n",
       "    .dataframe tbody tr th:only-of-type {\n",
       "        vertical-align: middle;\n",
       "    }\n",
       "\n",
       "    .dataframe tbody tr th {\n",
       "        vertical-align: top;\n",
       "    }\n",
       "\n",
       "    .dataframe thead th {\n",
       "        text-align: right;\n",
       "    }\n",
       "</style>\n",
       "<table border=\"1\" class=\"dataframe\">\n",
       "  <thead>\n",
       "    <tr style=\"text-align: right;\">\n",
       "      <th></th>\n",
       "      <th>pokedex_number</th>\n",
       "      <th>generation</th>\n",
       "      <th>base_egg_steps</th>\n",
       "      <th>base_happiness</th>\n",
       "      <th>base_total</th>\n",
       "      <th>defense</th>\n",
       "      <th>experience_growth</th>\n",
       "      <th>height_m</th>\n",
       "      <th>attack</th>\n",
       "      <th>hp</th>\n",
       "      <th>sp_attack</th>\n",
       "      <th>sp_defense</th>\n",
       "      <th>speed</th>\n",
       "      <th>weight_kg</th>\n",
       "      <th>is_legendary</th>\n",
       "    </tr>\n",
       "  </thead>\n",
       "  <tbody>\n",
       "    <tr>\n",
       "      <th>pokedex_number</th>\n",
       "      <td>1.000000</td>\n",
       "      <td>0.985904</td>\n",
       "      <td>0.197278</td>\n",
       "      <td>-0.154776</td>\n",
       "      <td>0.140363</td>\n",
       "      <td>0.102412</td>\n",
       "      <td>0.084687</td>\n",
       "      <td>0.008580</td>\n",
       "      <td>0.137633</td>\n",
       "      <td>0.108079</td>\n",
       "      <td>0.109285</td>\n",
       "      <td>0.093848</td>\n",
       "      <td>0.004294</td>\n",
       "      <td>0.123567</td>\n",
       "      <td>0.196785</td>\n",
       "    </tr>\n",
       "    <tr>\n",
       "      <th>generation</th>\n",
       "      <td>0.985904</td>\n",
       "      <td>1.000000</td>\n",
       "      <td>0.128941</td>\n",
       "      <td>-0.115974</td>\n",
       "      <td>0.084358</td>\n",
       "      <td>0.057603</td>\n",
       "      <td>0.052530</td>\n",
       "      <td>-0.025525</td>\n",
       "      <td>0.101375</td>\n",
       "      <td>0.074065</td>\n",
       "      <td>0.070146</td>\n",
       "      <td>0.048711</td>\n",
       "      <td>-0.019914</td>\n",
       "      <td>0.085767</td>\n",
       "      <td>0.139029</td>\n",
       "    </tr>\n",
       "    <tr>\n",
       "      <th>base_egg_steps</th>\n",
       "      <td>0.197278</td>\n",
       "      <td>0.128941</td>\n",
       "      <td>1.000000</td>\n",
       "      <td>-0.524551</td>\n",
       "      <td>0.496466</td>\n",
       "      <td>0.265230</td>\n",
       "      <td>0.373837</td>\n",
       "      <td>0.381455</td>\n",
       "      <td>0.331088</td>\n",
       "      <td>0.359218</td>\n",
       "      <td>0.404477</td>\n",
       "      <td>0.335404</td>\n",
       "      <td>0.289447</td>\n",
       "      <td>0.443286</td>\n",
       "      <td>0.873488</td>\n",
       "    </tr>\n",
       "    <tr>\n",
       "      <th>base_happiness</th>\n",
       "      <td>-0.154776</td>\n",
       "      <td>-0.115974</td>\n",
       "      <td>-0.524551</td>\n",
       "      <td>1.000000</td>\n",
       "      <td>-0.274795</td>\n",
       "      <td>-0.191503</td>\n",
       "      <td>-0.295348</td>\n",
       "      <td>-0.343394</td>\n",
       "      <td>-0.251811</td>\n",
       "      <td>-0.108217</td>\n",
       "      <td>-0.228924</td>\n",
       "      <td>-0.149719</td>\n",
       "      <td>-0.148753</td>\n",
       "      <td>-0.405840</td>\n",
       "      <td>-0.413108</td>\n",
       "    </tr>\n",
       "    <tr>\n",
       "      <th>base_total</th>\n",
       "      <td>0.140363</td>\n",
       "      <td>0.084358</td>\n",
       "      <td>0.496466</td>\n",
       "      <td>-0.274795</td>\n",
       "      <td>1.000000</td>\n",
       "      <td>0.629620</td>\n",
       "      <td>0.256930</td>\n",
       "      <td>0.535063</td>\n",
       "      <td>0.730134</td>\n",
       "      <td>0.620624</td>\n",
       "      <td>0.741120</td>\n",
       "      <td>0.717434</td>\n",
       "      <td>0.547666</td>\n",
       "      <td>0.458111</td>\n",
       "      <td>0.485440</td>\n",
       "    </tr>\n",
       "    <tr>\n",
       "      <th>defense</th>\n",
       "      <td>0.102412</td>\n",
       "      <td>0.057603</td>\n",
       "      <td>0.265230</td>\n",
       "      <td>-0.191503</td>\n",
       "      <td>0.629620</td>\n",
       "      <td>1.000000</td>\n",
       "      <td>0.129698</td>\n",
       "      <td>0.361938</td>\n",
       "      <td>0.468915</td>\n",
       "      <td>0.242378</td>\n",
       "      <td>0.241882</td>\n",
       "      <td>0.526348</td>\n",
       "      <td>0.007934</td>\n",
       "      <td>0.424067</td>\n",
       "      <td>0.265587</td>\n",
       "    </tr>\n",
       "    <tr>\n",
       "      <th>experience_growth</th>\n",
       "      <td>0.084687</td>\n",
       "      <td>0.052530</td>\n",
       "      <td>0.373837</td>\n",
       "      <td>-0.295348</td>\n",
       "      <td>0.256930</td>\n",
       "      <td>0.129698</td>\n",
       "      <td>1.000000</td>\n",
       "      <td>0.245984</td>\n",
       "      <td>0.241087</td>\n",
       "      <td>0.214068</td>\n",
       "      <td>0.201603</td>\n",
       "      <td>0.088806</td>\n",
       "      <td>0.144946</td>\n",
       "      <td>0.246108</td>\n",
       "      <td>0.361038</td>\n",
       "    </tr>\n",
       "    <tr>\n",
       "      <th>height_m</th>\n",
       "      <td>0.008580</td>\n",
       "      <td>-0.025525</td>\n",
       "      <td>0.381455</td>\n",
       "      <td>-0.343394</td>\n",
       "      <td>0.535063</td>\n",
       "      <td>0.361938</td>\n",
       "      <td>0.245984</td>\n",
       "      <td>1.000000</td>\n",
       "      <td>0.423160</td>\n",
       "      <td>0.478369</td>\n",
       "      <td>0.353007</td>\n",
       "      <td>0.328327</td>\n",
       "      <td>0.202202</td>\n",
       "      <td>0.626551</td>\n",
       "      <td>0.322155</td>\n",
       "    </tr>\n",
       "    <tr>\n",
       "      <th>attack</th>\n",
       "      <td>0.137633</td>\n",
       "      <td>0.101375</td>\n",
       "      <td>0.331088</td>\n",
       "      <td>-0.251811</td>\n",
       "      <td>0.730134</td>\n",
       "      <td>0.468915</td>\n",
       "      <td>0.241087</td>\n",
       "      <td>0.423160</td>\n",
       "      <td>1.000000</td>\n",
       "      <td>0.410616</td>\n",
       "      <td>0.368154</td>\n",
       "      <td>0.265836</td>\n",
       "      <td>0.352703</td>\n",
       "      <td>0.382183</td>\n",
       "      <td>0.303295</td>\n",
       "    </tr>\n",
       "    <tr>\n",
       "      <th>hp</th>\n",
       "      <td>0.108079</td>\n",
       "      <td>0.074065</td>\n",
       "      <td>0.359218</td>\n",
       "      <td>-0.108217</td>\n",
       "      <td>0.620624</td>\n",
       "      <td>0.242378</td>\n",
       "      <td>0.214068</td>\n",
       "      <td>0.478369</td>\n",
       "      <td>0.410616</td>\n",
       "      <td>1.000000</td>\n",
       "      <td>0.365973</td>\n",
       "      <td>0.366971</td>\n",
       "      <td>0.160760</td>\n",
       "      <td>0.427743</td>\n",
       "      <td>0.308405</td>\n",
       "    </tr>\n",
       "    <tr>\n",
       "      <th>sp_attack</th>\n",
       "      <td>0.109285</td>\n",
       "      <td>0.070146</td>\n",
       "      <td>0.404477</td>\n",
       "      <td>-0.228924</td>\n",
       "      <td>0.741120</td>\n",
       "      <td>0.241882</td>\n",
       "      <td>0.201603</td>\n",
       "      <td>0.353007</td>\n",
       "      <td>0.368154</td>\n",
       "      <td>0.365973</td>\n",
       "      <td>1.000000</td>\n",
       "      <td>0.511496</td>\n",
       "      <td>0.438981</td>\n",
       "      <td>0.245218</td>\n",
       "      <td>0.406281</td>\n",
       "    </tr>\n",
       "    <tr>\n",
       "      <th>sp_defense</th>\n",
       "      <td>0.093848</td>\n",
       "      <td>0.048711</td>\n",
       "      <td>0.335404</td>\n",
       "      <td>-0.149719</td>\n",
       "      <td>0.717434</td>\n",
       "      <td>0.526348</td>\n",
       "      <td>0.088806</td>\n",
       "      <td>0.328327</td>\n",
       "      <td>0.265836</td>\n",
       "      <td>0.366971</td>\n",
       "      <td>0.511496</td>\n",
       "      <td>1.000000</td>\n",
       "      <td>0.225977</td>\n",
       "      <td>0.306523</td>\n",
       "      <td>0.343241</td>\n",
       "    </tr>\n",
       "    <tr>\n",
       "      <th>speed</th>\n",
       "      <td>0.004294</td>\n",
       "      <td>-0.019914</td>\n",
       "      <td>0.289447</td>\n",
       "      <td>-0.148753</td>\n",
       "      <td>0.547666</td>\n",
       "      <td>0.007934</td>\n",
       "      <td>0.144946</td>\n",
       "      <td>0.202202</td>\n",
       "      <td>0.352703</td>\n",
       "      <td>0.160760</td>\n",
       "      <td>0.438981</td>\n",
       "      <td>0.225977</td>\n",
       "      <td>1.000000</td>\n",
       "      <td>0.051384</td>\n",
       "      <td>0.311639</td>\n",
       "    </tr>\n",
       "    <tr>\n",
       "      <th>weight_kg</th>\n",
       "      <td>0.123567</td>\n",
       "      <td>0.085767</td>\n",
       "      <td>0.443286</td>\n",
       "      <td>-0.405840</td>\n",
       "      <td>0.458111</td>\n",
       "      <td>0.424067</td>\n",
       "      <td>0.246108</td>\n",
       "      <td>0.626551</td>\n",
       "      <td>0.382183</td>\n",
       "      <td>0.427743</td>\n",
       "      <td>0.245218</td>\n",
       "      <td>0.306523</td>\n",
       "      <td>0.051384</td>\n",
       "      <td>1.000000</td>\n",
       "      <td>0.393023</td>\n",
       "    </tr>\n",
       "    <tr>\n",
       "      <th>is_legendary</th>\n",
       "      <td>0.196785</td>\n",
       "      <td>0.139029</td>\n",
       "      <td>0.873488</td>\n",
       "      <td>-0.413108</td>\n",
       "      <td>0.485440</td>\n",
       "      <td>0.265587</td>\n",
       "      <td>0.361038</td>\n",
       "      <td>0.322155</td>\n",
       "      <td>0.303295</td>\n",
       "      <td>0.308405</td>\n",
       "      <td>0.406281</td>\n",
       "      <td>0.343241</td>\n",
       "      <td>0.311639</td>\n",
       "      <td>0.393023</td>\n",
       "      <td>1.000000</td>\n",
       "    </tr>\n",
       "  </tbody>\n",
       "</table>\n",
       "</div>"
      ],
      "text/plain": [
       "                   pokedex_number  generation  base_egg_steps  base_happiness  \\\n",
       "pokedex_number           1.000000    0.985904        0.197278       -0.154776   \n",
       "generation               0.985904    1.000000        0.128941       -0.115974   \n",
       "base_egg_steps           0.197278    0.128941        1.000000       -0.524551   \n",
       "base_happiness          -0.154776   -0.115974       -0.524551        1.000000   \n",
       "base_total               0.140363    0.084358        0.496466       -0.274795   \n",
       "defense                  0.102412    0.057603        0.265230       -0.191503   \n",
       "experience_growth        0.084687    0.052530        0.373837       -0.295348   \n",
       "height_m                 0.008580   -0.025525        0.381455       -0.343394   \n",
       "attack                   0.137633    0.101375        0.331088       -0.251811   \n",
       "hp                       0.108079    0.074065        0.359218       -0.108217   \n",
       "sp_attack                0.109285    0.070146        0.404477       -0.228924   \n",
       "sp_defense               0.093848    0.048711        0.335404       -0.149719   \n",
       "speed                    0.004294   -0.019914        0.289447       -0.148753   \n",
       "weight_kg                0.123567    0.085767        0.443286       -0.405840   \n",
       "is_legendary             0.196785    0.139029        0.873488       -0.413108   \n",
       "\n",
       "                   base_total   defense  experience_growth  height_m  \\\n",
       "pokedex_number       0.140363  0.102412           0.084687  0.008580   \n",
       "generation           0.084358  0.057603           0.052530 -0.025525   \n",
       "base_egg_steps       0.496466  0.265230           0.373837  0.381455   \n",
       "base_happiness      -0.274795 -0.191503          -0.295348 -0.343394   \n",
       "base_total           1.000000  0.629620           0.256930  0.535063   \n",
       "defense              0.629620  1.000000           0.129698  0.361938   \n",
       "experience_growth    0.256930  0.129698           1.000000  0.245984   \n",
       "height_m             0.535063  0.361938           0.245984  1.000000   \n",
       "attack               0.730134  0.468915           0.241087  0.423160   \n",
       "hp                   0.620624  0.242378           0.214068  0.478369   \n",
       "sp_attack            0.741120  0.241882           0.201603  0.353007   \n",
       "sp_defense           0.717434  0.526348           0.088806  0.328327   \n",
       "speed                0.547666  0.007934           0.144946  0.202202   \n",
       "weight_kg            0.458111  0.424067           0.246108  0.626551   \n",
       "is_legendary         0.485440  0.265587           0.361038  0.322155   \n",
       "\n",
       "                     attack        hp  sp_attack  sp_defense     speed  \\\n",
       "pokedex_number     0.137633  0.108079   0.109285    0.093848  0.004294   \n",
       "generation         0.101375  0.074065   0.070146    0.048711 -0.019914   \n",
       "base_egg_steps     0.331088  0.359218   0.404477    0.335404  0.289447   \n",
       "base_happiness    -0.251811 -0.108217  -0.228924   -0.149719 -0.148753   \n",
       "base_total         0.730134  0.620624   0.741120    0.717434  0.547666   \n",
       "defense            0.468915  0.242378   0.241882    0.526348  0.007934   \n",
       "experience_growth  0.241087  0.214068   0.201603    0.088806  0.144946   \n",
       "height_m           0.423160  0.478369   0.353007    0.328327  0.202202   \n",
       "attack             1.000000  0.410616   0.368154    0.265836  0.352703   \n",
       "hp                 0.410616  1.000000   0.365973    0.366971  0.160760   \n",
       "sp_attack          0.368154  0.365973   1.000000    0.511496  0.438981   \n",
       "sp_defense         0.265836  0.366971   0.511496    1.000000  0.225977   \n",
       "speed              0.352703  0.160760   0.438981    0.225977  1.000000   \n",
       "weight_kg          0.382183  0.427743   0.245218    0.306523  0.051384   \n",
       "is_legendary       0.303295  0.308405   0.406281    0.343241  0.311639   \n",
       "\n",
       "                   weight_kg  is_legendary  \n",
       "pokedex_number      0.123567      0.196785  \n",
       "generation          0.085767      0.139029  \n",
       "base_egg_steps      0.443286      0.873488  \n",
       "base_happiness     -0.405840     -0.413108  \n",
       "base_total          0.458111      0.485440  \n",
       "defense             0.424067      0.265587  \n",
       "experience_growth   0.246108      0.361038  \n",
       "height_m            0.626551      0.322155  \n",
       "attack              0.382183      0.303295  \n",
       "hp                  0.427743      0.308405  \n",
       "sp_attack           0.245218      0.406281  \n",
       "sp_defense          0.306523      0.343241  \n",
       "speed               0.051384      0.311639  \n",
       "weight_kg           1.000000      0.393023  \n",
       "is_legendary        0.393023      1.000000  "
      ]
     },
     "execution_count": 25,
     "metadata": {},
     "output_type": "execute_result"
    }
   ],
   "source": [
    "pokemon.corr()"
   ]
  },
  {
   "cell_type": "markdown",
   "metadata": {},
   "source": [
    "Interestingly enough, it seems like base_happiness and egg_steps have a negative correlation. Although as we will see below, this is probably because a lot of the happiness values are constant. In other words, there is not much variety in happiness values of pokemon. They are all given the same happiness value per generation. As can be seen below, happiness value for gen7 seems to only be 0 or 70 while egg steps vary much more.\n",
    "\n",
    "It appears that there is some correlation between # of legendaries and egg steps since we can see the highest correlation value comes from is_legendary and base_egg_steps. Not surprising since we would expect more egg steps in order to hatch a legendary compared to a normal pokemon and is_legendary only takes on 0 or 1."
   ]
  },
  {
   "cell_type": "code",
   "execution_count": 26,
   "metadata": {},
   "outputs": [
    {
     "data": {
      "image/png": "[encoded data removed]",
      "text/plain": [
       "<Figure size 432x288 with 1 Axes>"
      ]
     },
     "metadata": {
      "needs_background": "light"
     },
     "output_type": "display_data"
    }
   ],
   "source": [
    "plt.scatter(pokemon['base_egg_steps'],pokemon['base_happiness'])\n",
    "plt.xlabel('egg steps')\n",
    "plt.ylabel('happiness value')\n",
    "plt.title('happiness vs egg steps');"
   ]
  },
  {
   "cell_type": "code",
   "execution_count": 27,
   "metadata": {},
   "outputs": [
    {
     "name": "stdout",
     "output_type": "stream",
     "text": [
      "values of happiness for gen7: [70  0]\n",
      "values of egg steps for gen7: [ 3840  5120 30720  6400  2560 10240]\n"
     ]
    },
    {
     "data": {
      "image/png": "[encoded data removed]",
      "text/plain": [
       "<Figure size 432x288 with 1 Axes>"
      ]
     },
     "metadata": {
      "needs_background": "light"
     },
     "output_type": "display_data"
    }
   ],
   "source": [
    "t1 = generations.get_group(7)['base_egg_steps']\n",
    "t2 = generations.get_group(7)['base_happiness']\n",
    "print(\"values of happiness for gen7: {}\".format(t2.unique()))\n",
    "print(\"values of egg steps for gen7: {}\".format(t1.unique()))\n",
    "plt.scatter(t1,t2)\n",
    "plt.xlabel('base egg steps')\n",
    "plt.ylabel('happiness value')\n",
    "plt.title('happiness vs egg steps for gen7');"
   ]
  },
  {
   "cell_type": "markdown",
   "metadata": {},
   "source": [
    "In general, it doesn't seem like base_egg_steps has high correlation with any variable and perhaps the amount of egg steps increased per generation due to data not available in this dataset."
   ]
  },
  {
   "cell_type": "markdown",
   "metadata": {},
   "source": [
    "# How are stats distributed across types?\n",
    "\n",
    "One can imagine that at the start of Pokemon in gen1 that the average stat values between pokemon/types of pokemon were relatively equal. But as Pokemon became more popular, did the Pokemon company cater to the masses and buff up popular pokemon types?\n",
    "\n",
    "From earlier in this report we saw a graph showing that the average stat values of pokemon did not really increase, showing that the Pokemon company did not go crazy buffing up pokemon in new generations on average. But did they buff up stats for specific pokemon types? In particular, with the introduction of the new fairy type in gen6, Pokemon went back to the previous generations and added fairy typing to some pokemons which leads to the question: are the new gen6/7 fairy type pokemon stronger than the ones changed from previous generations?"
   ]
  },
  {
   "cell_type": "markdown",
   "metadata": {},
   "source": [
    "Lets first create a dataframe for all 18 types. Since some pokemon can have 2 types (type1,type2 in our dataframe) they will show up in 2 dataframes. "
   ]
  },
  {
   "cell_type": "code",
   "execution_count": 28,
   "metadata": {},
   "outputs": [
    {
     "data": {
      "text/plain": [
       "['grass',\n",
       " 'fire',\n",
       " 'water',\n",
       " 'bug',\n",
       " 'normal',\n",
       " 'poison',\n",
       " 'electric',\n",
       " 'ground',\n",
       " 'fairy',\n",
       " 'fighting',\n",
       " 'psychic',\n",
       " 'rock',\n",
       " 'ghost',\n",
       " 'ice',\n",
       " 'dragon',\n",
       " 'dark',\n",
       " 'steel',\n",
       " 'flying']"
      ]
     },
     "execution_count": 28,
     "metadata": {},
     "output_type": "execute_result"
    }
   ],
   "source": [
    "types = pokemon.type1.unique().tolist()\n",
    "types"
   ]
  },
  {
   "cell_type": "code",
   "execution_count": 29,
   "metadata": {},
   "outputs": [],
   "source": [
    "grasstype = pokemon[(pokemon['type1']==types[0]) | (pokemon['type2']==types[0])]\n",
    "firetype = pokemon[(pokemon['type1']==types[1]) | (pokemon['type2']==types[1])]\n",
    "watertype = pokemon[(pokemon['type1']==types[2]) | (pokemon['type2']==types[2])]\n",
    "bugtype = pokemon[(pokemon['type1']==types[3]) | (pokemon['type2']==types[3])]\n",
    "normaltype = pokemon[(pokemon['type1']==types[4]) | (pokemon['type2']==types[4])]\n",
    "poisontype = pokemon[(pokemon['type1']==types[5]) | (pokemon['type2']==types[5])]\n",
    "electrictype = pokemon[(pokemon['type1']==types[6]) | (pokemon['type2']==types[6])]\n",
    "groundtype = pokemon[(pokemon['type1']==types[7]) | (pokemon['type2']==types[7])]\n",
    "fairytype = pokemon[(pokemon['type1']==types[8]) | (pokemon['type2']==types[8])]\n",
    "fightingtype = pokemon[(pokemon['type1']==types[9]) | (pokemon['type2']==types[9])]\n",
    "psychictype = pokemon[(pokemon['type1']==types[10]) | (pokemon['type2']==types[10])]\n",
    "rocktype = pokemon[(pokemon['type1']==types[11]) | (pokemon['type2']==types[11])]\n",
    "ghosttype = pokemon[(pokemon['type1']==types[12]) | (pokemon['type2']==types[12])]\n",
    "icetype = pokemon[(pokemon['type1']==types[13]) | (pokemon['type2']==types[13])]\n",
    "dragontype = pokemon[(pokemon['type1']==types[14]) | (pokemon['type2']==types[14])]\n",
    "darktype = pokemon[(pokemon['type1']==types[15]) | (pokemon['type2']==types[15])]\n",
    "steeltype = pokemon[(pokemon['type1']==types[16]) | (pokemon['type2']==types[16])]\n",
    "flyingtype = pokemon[(pokemon['type1']==types[17]) | (pokemon['type2']==types[17])]"
   ]
  },
  {
   "cell_type": "code",
   "execution_count": 30,
   "metadata": {},
   "outputs": [],
   "source": [
    "means = []\n",
    "for i in types:\n",
    "    means.append(pokemon[(pokemon['type1']==i) | (pokemon['type2']==i)]['base_total'].mean())"
   ]
  },
  {
   "cell_type": "code",
   "execution_count": 31,
   "metadata": {},
   "outputs": [
    {
     "data": {
      "image/png": "[encoded data removed]",
      "text/plain": [
       "<Figure size 504x432 with 1 Axes>"
      ]
     },
     "metadata": {
      "needs_background": "light"
     },
     "output_type": "display_data"
    }
   ],
   "source": [
    "fig,ax = plt.subplots(figsize=(7,6))\n",
    "ax.bar(types,means)\n",
    "ax.set_title('avg base_total stat per type')\n",
    "ax.set_ylabel('avg base_total stat')\n",
    "ax.set_xlabel('type')\n",
    "ax.set_xticklabels(types,rotation=60);"
   ]
  },
  {
   "cell_type": "markdown",
   "metadata": {},
   "source": [
    "Dragon and steel types seem to have the highest average stats. Are there more dragon/steel types compared to other types?"
   ]
  },
  {
   "cell_type": "code",
   "execution_count": 32,
   "metadata": {},
   "outputs": [
    {
     "data": {
      "image/png": "[encoded data removed]",
      "text/plain": [
       "<Figure size 504x432 with 1 Axes>"
      ]
     },
     "metadata": {
      "needs_background": "light"
     },
     "output_type": "display_data"
    }
   ],
   "source": [
    "counts = []\n",
    "for i in types:\n",
    "    counts.append(pokemon[(pokemon['type1']==i) | (pokemon['type2']==i)].shape[0])\n",
    "fig,ax = plt.subplots(figsize=(7,6))\n",
    "ax.barh(types,counts)\n",
    "ax.set_xlabel('count')\n",
    "ax.set_title('count of each type');"
   ]
  },
  {
   "cell_type": "markdown",
   "metadata": {},
   "source": [
    "From the horizontal bar chart above, we can see that dragon/steel types actually have some of the lowest number of pokemons and water has much more than the rest.\n",
    "\n",
    "In the graphs above, we looked at all generations combined but what if we narrowed it down by generation?"
   ]
  },
  {
   "cell_type": "code",
   "execution_count": 33,
   "metadata": {},
   "outputs": [
    {
     "data": {
      "text/plain": [
       "generation\n",
       "1    422.312500\n",
       "2    420.777778\n",
       "3    412.000000\n",
       "4    441.357143\n",
       "5    423.705882\n",
       "6    435.000000\n",
       "7    432.923077\n",
       "Name: base_total, dtype: float64"
      ]
     },
     "execution_count": 33,
     "metadata": {},
     "output_type": "execute_result"
    }
   ],
   "source": [
    "watertype.groupby('generation')['base_total'].mean()"
   ]
  },
  {
   "cell_type": "code",
   "execution_count": 34,
   "metadata": {},
   "outputs": [
    {
     "data": {
      "text/plain": [
       "428.3770287141074"
      ]
     },
     "execution_count": 34,
     "metadata": {},
     "output_type": "execute_result"
    }
   ],
   "source": [
    "#average stat of ALL pokemon\n",
    "m = pokemon['base_total'].mean()\n",
    "m"
   ]
  },
  {
   "cell_type": "code",
   "execution_count": 35,
   "metadata": {},
   "outputs": [],
   "source": [
    "def gen_type_plot(p_type,col_name,title_name,total_mean):\n",
    "    '''\n",
    "    this function takes in a dataframe (p_type), groups it by generation,\n",
    "    and selects the col_name and takes the average and plots it\n",
    "    Args:\n",
    "        p_type: (pandas dataframe) dataframe for a specific pokemon type\n",
    "        col_name: (str) column name that we want to take the average of and plot\n",
    "        title_name: (str) title name for graph\n",
    "        total_mean: (float) average stat of ALL pokemon\n",
    "    '''\n",
    "    a = p_type.groupby('generation')[col_name].mean().tolist()\n",
    "    fig,ax = plt.subplots(figsize=(7,6))\n",
    "    ax.bar(range(1,8),a)\n",
    "    ax.set_title(title_name)\n",
    "    ax.set_ylabel('avg '+col_name)\n",
    "    ax.set_xlabel('generation')\n",
    "    \n",
    "    ax.axhline(y=total_mean,linewidth=1,color='k',linestyle='--')\n",
    "    ax.legend(['total avg stat'])\n",
    "    fig"
   ]
  },
  {
   "cell_type": "code",
   "execution_count": 36,
   "metadata": {},
   "outputs": [
    {
     "data": {
      "image/png": "[encoded data removed]",
      "text/plain": [
       "<Figure size 504x432 with 1 Axes>"
      ]
     },
     "metadata": {
      "needs_background": "light"
     },
     "output_type": "display_data"
    }
   ],
   "source": [
    "gen_type_plot(watertype,'base_total','water type stats',m)"
   ]
  },
  {
   "cell_type": "code",
   "execution_count": 37,
   "metadata": {},
   "outputs": [
    {
     "data": {
      "image/png": "[encoded data removed]",
      "text/plain": [
       "<Figure size 504x432 with 1 Axes>"
      ]
     },
     "metadata": {
      "needs_background": "light"
     },
     "output_type": "display_data"
    }
   ],
   "source": [
    "gen_type_plot(dragontype,'base_total','dragon type stats',m)"
   ]
  },
  {
   "cell_type": "code",
   "execution_count": 38,
   "metadata": {},
   "outputs": [
    {
     "data": {
      "image/png": "[encoded data removed]",
      "text/plain": [
       "<Figure size 504x432 with 1 Axes>"
      ]
     },
     "metadata": {
      "needs_background": "light"
     },
     "output_type": "display_data"
    }
   ],
   "source": [
    "gen_type_plot(steeltype,'base_total','steel type stats',m)"
   ]
  },
  {
   "cell_type": "code",
   "execution_count": 39,
   "metadata": {},
   "outputs": [
    {
     "data": {
      "image/png": "[encoded data removed]",
      "text/plain": [
       "<Figure size 504x432 with 1 Axes>"
      ]
     },
     "metadata": {
      "needs_background": "light"
     },
     "output_type": "display_data"
    }
   ],
   "source": [
    "gen_type_plot(normaltype,'base_total','normal type stats',m)"
   ]
  },
  {
   "cell_type": "code",
   "execution_count": 40,
   "metadata": {},
   "outputs": [
    {
     "data": {
      "image/png": "[encoded data removed]",
      "text/plain": [
       "<Figure size 504x432 with 1 Axes>"
      ]
     },
     "metadata": {
      "needs_background": "light"
     },
     "output_type": "display_data"
    }
   ],
   "source": [
    "gen_type_plot(fairytype,'base_total','fairy type stats',m)"
   ]
  },
  {
   "cell_type": "code",
   "execution_count": 41,
   "metadata": {},
   "outputs": [
    {
     "data": {
      "image/png": "[encoded data removed]",
      "text/plain": [
       "<Figure size 504x432 with 1 Axes>"
      ]
     },
     "metadata": {
      "needs_background": "light"
     },
     "output_type": "display_data"
    }
   ],
   "source": [
    "#take avg for dragon types per generation and subtract it by the total avg for each generation\n",
    "#ie gen1 dragon avg - gen1 total avg\n",
    "\n",
    "a = dragontype.groupby('generation')['base_total'].mean().tolist()\n",
    "b = generations['base_total'].mean().tolist()\n",
    "c = [a[i]-b[i] for i in range(len(a))]\n",
    "\n",
    "fig,ax = plt.subplots(figsize=(7,6))\n",
    "ax.bar(range(1,8),c)\n",
    "ax.set_title('dragon type stats')\n",
    "ax.set_ylabel('avg base_total')\n",
    "ax.set_xlabel('generation');"
   ]
  },
  {
   "cell_type": "markdown",
   "metadata": {},
   "source": [
    "# idea - normalize stat\n",
    "\n",
    "for gen1 dragon types, sum up base_total and divide by sum of base_total for all gen1\n",
    "\n",
    "sum(dragongen1_basetotal)/sum(allgen1_basetotal)\n",
    "\n",
    "this way i can see how much of gen1's stats goes towards dragon type"
   ]
  },
  {
   "cell_type": "code",
   "execution_count": 42,
   "metadata": {},
   "outputs": [
    {
     "data": {
      "image/png": "[encoded data removed]",
      "text/plain": [
       "<Figure size 504x432 with 1 Axes>"
      ]
     },
     "metadata": {
      "needs_background": "light"
     },
     "output_type": "display_data"
    }
   ],
   "source": [
    "d_sum = dragontype.groupby('generation')['base_total'].sum().tolist()\n",
    "a_sum = generations['base_total'].sum().tolist()\n",
    "c = [100*d_sum[i]/a_sum[i] for i in range(len(a_sum))] #percentage\n",
    "\n",
    "fig,ax = plt.subplots(figsize=(7,6))\n",
    "ax.bar(range(1,8),c)\n",
    "ax.set_title('dragon type stats percentage')\n",
    "ax.set_ylabel('percentage of generation\\'s stats')\n",
    "ax.set_xlabel('generation');"
   ]
  },
  {
   "cell_type": "code",
   "execution_count": 43,
   "metadata": {},
   "outputs": [
    {
     "data": {
      "image/png": "[encoded data removed]",
      "text/plain": [
       "<Figure size 1152x648 with 1 Axes>"
      ]
     },
     "metadata": {
      "needs_background": "light"
     },
     "output_type": "display_data"
    }
   ],
   "source": [
    "#look at normalized stat for each type\n",
    "\n",
    "types = pokemon.type1.unique().tolist()\n",
    "\n",
    "fig,ax = plt.subplots(figsize=(16,9))\n",
    "whole_gen = generations['base_total'].sum().tolist()\n",
    "\n",
    "for t in types:\n",
    "    gen_type = pokemon[(pokemon['type1']==t) | (pokemon['type2']==t)].groupby('generation')['base_total'].sum().tolist()\n",
    "    ratio = [100*gen_type[i]/whole_gen[i] for i in range(len(a_sum))] #multiplied by 100 to get percentage\n",
    "    ax.plot(range(1,8),ratio,'o:')\n",
    "ax.legend(types,bbox_to_anchor=(1.1,1))\n",
    "ax.set_title('Pokemon Type Total Stat Percentage')\n",
    "ax.set_ylabel('percentage')\n",
    "ax.set_xlabel('generation');"
   ]
  },
  {
   "cell_type": "markdown",
   "metadata": {},
   "source": [
    "For the graph above, it shows the percentage of a certain type's total stats over total stats for the specified generation. In other words, if we were looking at dragon types for gen1, I calculated the sum of all dragon type stats in gen1 and divided it by the sum of all pokemon stats in gen1. This allows me to see how much of gen1's stats were allocated to dragon types. Of course this could also be heavily influenced by how many of each type there are.\n",
    "\n",
    "Some interesting notes:\n",
    " - fairy types see a massive spike in stat percentage in gen6,7. Since the fairy type was introduced in gen6,7 it could show that the Pokemon company designed new fairy type pokemons with more stats (since they seem to have the largest percentage of stats for their gen). If we look at the gen_type_plot for fairy types above, we can see that the average fairy type stat in gen6,7 is about 1.5x larger than the other gens.\n",
    " - This spike we see for fairy types in gen6,7 could be because there are simply more fairy types in those gens. If Pokemon is showing more interest in developing the new types, would they have above average stats? Did Pokemon make them stronger to promote their use?"
   ]
  },
  {
   "cell_type": "markdown",
   "metadata": {},
   "source": [
    "# Hypothesis Testing\n",
    "\n",
    "we first check that our data is gaussian"
   ]
  },
  {
   "cell_type": "code",
   "execution_count": 44,
   "metadata": {},
   "outputs": [],
   "source": [
    "def get_type_df(df,type1,type2,gen):\n",
    "    '''\n",
    "    this function returns a dataframe of pokemon of type1 or type2 in generation gen\n",
    "    Args:\n",
    "        df: entire pokemon dataframe\n",
    "        type1: first type to look for\n",
    "        type2: second type to look for\n",
    "        gen: pokemon generation that you want to look at\n",
    "        \n",
    "    Returns:\n",
    "        dataframe containing only pokemon with type1 or type2 belonging to generation gen\n",
    "    '''\n",
    "    assert isinstance(df, pd.DataFrame)\n",
    "    assert isinstance(type1, str)\n",
    "    assert isinstance(type2, str)\n",
    "    assert isinstance(gen, int) and (1<=gen<=7)\n",
    "    \n",
    "    return df[((df['type1']==type1) | (pokemon['type2']==type2)) & (pokemon['generation']==gen)]"
   ]
  },
  {
   "cell_type": "code",
   "execution_count": 45,
   "metadata": {},
   "outputs": [],
   "source": [
    "def gaussian_check(vals, alpha=0.05):\n",
    "    '''\n",
    "    this function takes in a list of numbers and determines if it is gaussian\n",
    "    Args:\n",
    "        vals: list-like object\n",
    "        alpha: alpha value for hypothesis test\n",
    "    '''\n",
    "    _,p = stats.shapiro(vals)\n",
    "    if p > alpha:\n",
    "        print('probably gaussian')\n",
    "    else:\n",
    "        print('probably not gaussian')\n",
    "    "
   ]
  },
  {
   "cell_type": "code",
   "execution_count": 46,
   "metadata": {},
   "outputs": [],
   "source": [
    "gen1_fairy = get_type_df(pokemon,'fairy','fairy',1)\n",
    "gen6_fairy = get_type_df(pokemon,'fairy','fairy',6)\n",
    "gen7_fairy = get_type_df(pokemon,'fairy','fairy',7)"
   ]
  },
  {
   "cell_type": "code",
   "execution_count": 47,
   "metadata": {},
   "outputs": [
    {
     "name": "stdout",
     "output_type": "stream",
     "text": [
      "probably gaussian\n"
     ]
    }
   ],
   "source": [
    "gaussian_check(gen1_fairy['base_total'])"
   ]
  },
  {
   "cell_type": "code",
   "execution_count": 48,
   "metadata": {},
   "outputs": [
    {
     "name": "stdout",
     "output_type": "stream",
     "text": [
      "probably gaussian\n"
     ]
    }
   ],
   "source": [
    "gaussian_check(gen6_fairy['base_total'])"
   ]
  },
  {
   "cell_type": "code",
   "execution_count": 49,
   "metadata": {},
   "outputs": [
    {
     "name": "stdout",
     "output_type": "stream",
     "text": [
      "probably gaussian\n"
     ]
    }
   ],
   "source": [
    "gaussian_check(gen7_fairy['base_total'])"
   ]
  },
  {
   "cell_type": "markdown",
   "metadata": {},
   "source": [
    "# hypothesis testing for fairy types\n"
   ]
  },
  {
   "cell_type": "code",
   "execution_count": 50,
   "metadata": {},
   "outputs": [],
   "source": [
    "def hypothesis_test(val1,val2,alpha=0.05):\n",
    "    '''\n",
    "    this function takes in 2 pd series and does a hypothesis test.\n",
    "    Null Hypothesis: val1 == val2\n",
    "    Alt Hypothesis: val2 > val1\n",
    "    '''\n",
    "    _,p = stats.ttest_ind(val1.tolist(),val2.tolist(),equal_var=False)\n",
    "    print(\"\\nThe result is p = {:.3f} and alpha = {}:\\n\".format(p/2, alpha))\n",
    "    if p/2 <= alpha:\n",
    "        print(\"we reject the null\")\n",
    "    else:\n",
    "        print(\"we keep the null\")"
   ]
  },
  {
   "cell_type": "code",
   "execution_count": 51,
   "metadata": {},
   "outputs": [
    {
     "name": "stdout",
     "output_type": "stream",
     "text": [
      "Null Hypothesis: the average base_total stat for gen7 is the same as gen1\n",
      "Alternative Hypothesis: the average base_total stat for gen7 is larger than gen1\n",
      "\n",
      "The result is p = 0.055 and alpha = 0.05:\n",
      "\n",
      "we keep the null\n"
     ]
    }
   ],
   "source": [
    "# Hypothesis Testing for gen7 fairy types\n",
    "print(\"Null Hypothesis: the average base_total stat for gen7 is the same as gen1\")\n",
    "print(\"Alternative Hypothesis: the average base_total stat for gen7 is larger than gen1\")\n",
    "\n",
    "hypothesis_test(gen1_fairy['base_total'], gen7_fairy['base_total'])"
   ]
  },
  {
   "cell_type": "markdown",
   "metadata": {},
   "source": [
    "Although we keep the null here, we can see that the p-value was extremely close to the alpha value of 0.05. If we just slightly increase our alpha from 0.05, then we can say that there is a statistically significant difference between gen7 and gen1 fairy type stats and that the Pokemon company most likely created new fairy types to be stronger than previous generation fairy types."
   ]
  },
  {
   "cell_type": "code",
   "execution_count": 52,
   "metadata": {},
   "outputs": [
    {
     "data": {
      "image/png": "[encoded data removed]",
      "text/plain": [
       "<Figure size 432x288 with 1 Axes>"
      ]
     },
     "metadata": {
      "needs_background": "light"
     },
     "output_type": "display_data"
    }
   ],
   "source": [
    "fig,ax = plt.subplots()\n",
    "for i in range(2,8):\n",
    "    temp = get_type_df(pokemon,'fairy','fairy',i)\n",
    "    s,p = stats.ttest_ind(gen1_fairy['base_total'].tolist(),temp['base_total'].tolist())\n",
    "    ax.scatter(i,p/2)\n",
    "ax.axhline(y=0.05,linewidth=1,color='k',linestyle='--')\n",
    "ax.legend(['alpha','gen2','gen3','gen4','gen5','gen6','gen7'])\n",
    "ax.set_title('p-value per generation')\n",
    "ax.set_xlabel('generation')\n",
    "ax.set_ylabel('p-value');"
   ]
  },
  {
   "cell_type": "markdown",
   "metadata": {},
   "source": [
    "gen6 and gen7 seem to be extremely close to the alpha value of .05 while gen2 is ~.02 away from alpha. gen3,4,5 all are far away from alpha so if alpha is increased by a little bit, we would see that the avg fairy type stat in gen6 and gen7 is statistically significant and thus it is likely that the Pokemon company did increase the avg strength of fairy types in gen6 and 7 compared to the other gens."
   ]
  },
  {
   "cell_type": "markdown",
   "metadata": {},
   "source": [
    "# scatter plot of count vs type stat\n",
    "Scatterplot where x-axis is how many fairy types are in genX and y-axis is avg fairy type stat for genX\n",
    "\n",
    "So we will have 7 points, 1 for each generation. This will let us see how many fairy types are in each generation and also see their average base stat.\n",
    "\n",
    "From the graph, we can see that Pokemon certainly increased the number of fairy types in gen6/7 and it certainly does seem like they are created stronger than previous generations"
   ]
  },
  {
   "cell_type": "code",
   "execution_count": 53,
   "metadata": {},
   "outputs": [
    {
     "data": {
      "image/png": "[encoded data removed]",
      "text/plain": [
       "<Figure size 432x288 with 1 Axes>"
      ]
     },
     "metadata": {
      "needs_background": "light"
     },
     "output_type": "display_data"
    }
   ],
   "source": [
    "y = fairytype.groupby('generation')['base_total'].mean().tolist()\n",
    "x = fairytype.groupby('generation')['base_total'].count().tolist()\n",
    "fig,ax = plt.subplots()\n",
    "for i in range(7):\n",
    "    ax.scatter(x[i],y[i])\n",
    "ax.legend(['gen1','gen2','gen3','gen4','gen5','gen6','gen7'])\n",
    "ax.set_title('count vs avg base_total stat for fairy types')\n",
    "ax.set_xlabel('count')\n",
    "ax.set_ylabel('avg base_total stat');"
   ]
  }
 ],
 "metadata": {
  "kernelspec": {
   "display_name": "Python 3",
   "language": "python",
   "name": "python3"
  },
  "language_info": {
   "codemirror_mode": {
    "name": "ipython",
    "version": 3
   },
   "file_extension": ".py",
   "mimetype": "text/x-python",
   "name": "python",
   "nbconvert_exporter": "python",
   "pygments_lexer": "ipython3",
   "version": "3.7.0"
  }
 },
 "nbformat": 4,
 "nbformat_minor": 2
}
